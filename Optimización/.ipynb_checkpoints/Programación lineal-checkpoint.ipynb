{
 "cells": [
  {
   "cell_type": "markdown",
   "metadata": {},
   "source": [
    "# Programación lineal"
   ]
  },
  {
   "cell_type": "markdown",
   "metadata": {},
   "source": [
    "> La programación lineal es el campo de la optimización matemática dedicado a maximizar o minimizar (optimizar) funciones lineales, denominada función objetivo, de tal forma que las variables de dicha función estén sujetas a una serie de restricciones expresadas mediante un sistema de ecuaciones o inecuaciones también lineales.\n",
    "\n",
    "\n",
    "<img style=\"float: right; margin: 0px 0px 15px 15px;\" src=\"https://upload.wikimedia.org/wikipedia/commons/thumb/0/0c/Linear_Programming_Feasible_Region.svg/2000px-Linear_Programming_Feasible_Region.svg.png\" width=\"400px\" height=\"125px\" />\n",
    "\n",
    "<img style=\"float: center\" src=\"https://upload.wikimedia.org/wikipedia/commons/thumb/e/ef/3dpoly.svg/220px-3dpoly.svg.png\" width=\"350px\" height=\"125px\" />\n",
    "\n",
    "\n",
    "**Referencias:**\n",
    "- https://es.wikipedia.org/wiki/Programaci%C3%B3n_lineal\n",
    "- https://docs.scipy.org/doc/scipy-0.18.1/reference/optimize.html\n",
    "- http://bdigital.unal.edu.co/5037/4/guillermojimenezlozano.2006_Parte1.pdf "
   ]
  },
  {
   "cell_type": "markdown",
   "metadata": {},
   "source": [
    "## 1. Apuntes históricos\n",
    "\n",
    "<img style=\"float: right\" src=\"https://upload.wikimedia.org/wikipedia/commons/5/5e/JohnvonNeumann-LosAlamos.gif\" width=\"200px\" height=\"125px\" />\n",
    "\n",
    "\n",
    "- 1826:\tJoseph Fourier anticipa la programación lineal. Carl Friedrich Gauss resuelve ecuaciones lineales por eliminación \"gaussiana\".\n",
    "- 1902:\tGyula Farkas concibe un método para resolver sistemas de inecuaciones.\n",
    "- Es hasta la Segunda Guerra Mundial que se plantea la programación lineal como un modelo matemático para planificar gastos y retornos, de modo que se reduzcan costos de guerra y aumentar pérdidas del enemigo. Secreto hasta 1947 (posguerra).\n",
    "- 1947:\tGeorge Dantzig publica el algoritmo simplex y John von Neumann desarrolló la teoría de la dualidad. Se sabe que Leonid Kantoróvich también formuló la teoría en forma independiente.\n",
    "- Fue usado por muchas industrias en la planificación diaria.\n",
    "\n",
    "**Hasta acá, tiempos exponenciales de solución. Lo siguiente, tiempo polinomial.**\n",
    "\n",
    "- 1979: Leonid Khachiyan, diseñó el llamado Algoritmo del elipsoide, a través del cual demostró que el problema de la programación lineal es resoluble de manera eficiente, es decir, en tiempo polinomial.\n",
    "- 1984: Narendra Karmarkar introduce el método del punto interior para resolver problemas de programación lineal.\n",
    "\n",
    "<img style=\"float: center\" src=\"https://upload.wikimedia.org/wikipedia/commons/thumb/e/ef/Simplex-description-en.svg/240px-Simplex-description-en.svg.png\" width=\"200px\" height=\"125px\" />"
   ]
  },
  {
   "cell_type": "markdown",
   "metadata": {},
   "source": [
    "## 2. Problemas de programación lineal\n",
    "\n",
    "### 2.1. Ejemplo básico\n",
    "Una multinacional farmacéutica desea fabricar un compuesto nutritivo a base de dos productos A y B.  El producto A contiene  $30\\%$ de proteínas,  un $1\\%$ de grasas y un  $10\\%$ de azúcares.  El producto B  contiene  un  $5\\%$  de proteínas,  un  $7\\%$ de grasas  y un  $10\\%$  de  azúcares.\n",
    "\n",
    "El compuesto debe de tener,  al menos, $25g$ de proteínas,  $6g$ de grasas y $30g$ de azúcares.  El coste del producto A es de $0.6$ u.m./g  y el de B es de $0.2$  u.m./g\n",
    "\n",
    "Se desea encontrar la cantidad en gramos de cada producto para que el coste total sea mínimo.\n",
    "\n",
    "Formular el problema de decidir cuánto hacer de cada producto como un problema de programación lineal."
   ]
  },
  {
   "cell_type": "markdown",
   "metadata": {},
   "source": [
    "**Procedimiento:**\n",
    "1. Identificar el criterio de optimización (función objetivo)\n",
    "2. Identificar la información que nos permita escribir la función objetivo\n",
    "3. Identificar las variables de optimización\n",
    "4. Identificar las restricciones y la información relacionada\n",
    "---"
   ]
  },
  {
   "cell_type": "markdown",
   "metadata": {},
   "source": [
    "#### Solución\n",
    "\n",
    "Sean:\n",
    "- $x_A$: la cantidad de gramos de A a ser producidas, y\n",
    "- $x_B$: la cantidad de gramos de B a ser producidas en la semana.\n",
    "\n",
    "Notar que lo que se quiere es minimizar $0.6x_A+0.2x_B$.\n",
    "\n",
    "Restricciones:\n",
    "1. El compuesto debe tener **al menos** $25 g$ de proteína: $30\\%x_A+5\\%x_B\\geq 25 \\Rightarrow 0.3x_A+0.05x_B\\geq 25$.\n",
    "2. El compuesto debe tener **al menos** $6 g$ de grasa: $1\\%x_A+7\\%x_B\\geq 6 \\Rightarrow 0.01x_A+0.07x_B\\geq 6$.\n",
    "3. El compuesto debe tener **al menos** $30 g$ de azúcares: $10\\%x_A+10\\%x_B\\geq 30 \\Rightarrow 0.1x_A+0.1x_B\\geq 30$.\n",
    "\n",
    "Finalmente, el problema puede ser expresado en la forma explicada como:\n",
    "\\begin{equation}\n",
    "\\begin{array}{ll}\n",
    "\\min_{x_A,x_B} & 0.6x_A+0.2x_B \\\\\n",
    "\\text{s. a. }  & -0.3x_A-0.05x_B\\leq -25 \\\\\n",
    "               & -0.01x_A-0.07x_B\\leq -6 \\\\\n",
    "               & -0.1x_A-0.1x_B\\leq -30,\n",
    "\\end{array}\n",
    "\\end{equation}\n",
    "\n",
    "o, eqivalentemente \n",
    "\\begin{equation}\n",
    "\\begin{array}{ll}\n",
    "\\min_{\\boldsymbol{x}} & \\boldsymbol{c}^\\top\\boldsymbol{x} \\\\\n",
    "\\text{s. a. }        & \\boldsymbol{A}_{eq}\\boldsymbol{x}=\\boldsymbol{b}_{eq} \\\\\n",
    "                     & \\boldsymbol{A}\\boldsymbol{x}\\leq\\boldsymbol{b},\n",
    "\\end{array}\n",
    "\\end{equation}\n",
    "con\n",
    "- $\\boldsymbol{c}=\\left[0.6 \\quad 0.2\\right]^\\top$,\n",
    "- $\\boldsymbol{A}=\\left[\\begin{array}{cc}-0.3 & -0.05 \\\\ -0.01 & -0.07\\\\ -0.1 & -0.1\\end{array}\\right]$, y\n",
    "- $\\boldsymbol{b}=\\left[-25 \\quad -6\\quad -30\\right]^\\top$.\n",
    "\n",
    "Preferiremos, en adelante, la notación vectorial/matricial."
   ]
  },
  {
   "cell_type": "markdown",
   "metadata": {},
   "source": [
    "Solución gráfica:"
   ]
  },
  {
   "cell_type": "code",
   "execution_count": 1,
   "metadata": {},
   "outputs": [],
   "source": [
    "import numpy as np\n",
    "import matplotlib.pyplot as plt"
   ]
  },
  {
   "cell_type": "code",
   "execution_count": 2,
   "metadata": {},
   "outputs": [],
   "source": [
    "def r1(xA):\n",
    "    xB=(25-0.3*xA)/0.05 # xB >= (25-0.3*xA)/0.05\n",
    "    return xB\n",
    "def r2(xA):\n",
    "    xB=(6-0.01*xA)/0.07 # xB >= (6-0.01*xA)/0.07\n",
    "    return xB\n",
    "def r3(xA):\n",
    "    xB=(30-0.1*xA)/0.1 # xB >= (30-0.1*xA)/0.1\n",
    "    return xB"
   ]
  },
  {
   "cell_type": "code",
   "execution_count": 6,
   "metadata": {},
   "outputs": [
    {
     "data": {
      "image/png": "[encoded data removed]",
      "text/plain": [
       "<Figure size 432x288 with 1 Axes>"
      ]
     },
     "metadata": {
      "needs_background": "light"
     },
     "output_type": "display_data"
    }
   ],
   "source": [
    "xA=np.linspace(0,300,500)\n",
    "plt.plot(xA,r1(xA),'r',label='r1')\n",
    "plt.plot(xA,r2(xA),'g',label='r2')\n",
    "plt.plot(xA,r3(xA),'b',label='r3')\n",
    "plt.ylim([0,500])\n",
    "plt.legend(loc='best') # Para que muestre las etiquetas\n",
    "plt.grid()"
   ]
  },
  {
   "cell_type": "code",
   "execution_count": 7,
   "metadata": {},
   "outputs": [
    {
     "data": {
      "text/plain": [
       "[40.0000000000000]"
      ]
     },
     "execution_count": 7,
     "metadata": {},
     "output_type": "execute_result"
    }
   ],
   "source": [
    "import sympy as sym\n",
    "sym.var('x')\n",
    "sym.solve(r1(x)-r3(x),x)"
   ]
  },
  {
   "cell_type": "markdown",
   "metadata": {},
   "source": [
    "El cruce ocurre en $x_A=40$."
   ]
  },
  {
   "cell_type": "code",
   "execution_count": 8,
   "metadata": {},
   "outputs": [
    {
     "data": {
      "text/plain": [
       "260.0"
      ]
     },
     "execution_count": 8,
     "metadata": {},
     "output_type": "execute_result"
    }
   ],
   "source": [
    "r1(40)"
   ]
  },
  {
   "cell_type": "markdown",
   "metadata": {},
   "source": [
    "El primer vértice corresponde a la coordenada $(40,260)$. Para las restricciones 1 y 3."
   ]
  },
  {
   "cell_type": "code",
   "execution_count": 9,
   "metadata": {},
   "outputs": [
    {
     "data": {
      "text/plain": [
       "[250.000000000000]"
      ]
     },
     "execution_count": 9,
     "metadata": {},
     "output_type": "execute_result"
    }
   ],
   "source": [
    "sym.solve(r2(x)-r3(x),x)"
   ]
  },
  {
   "cell_type": "code",
   "execution_count": 10,
   "metadata": {},
   "outputs": [
    {
     "data": {
      "text/plain": [
       "49.99999999999999"
      ]
     },
     "execution_count": 10,
     "metadata": {},
     "output_type": "execute_result"
    }
   ],
   "source": [
    "r2(250)"
   ]
  },
  {
   "cell_type": "markdown",
   "metadata": {},
   "source": [
    "El segundo vértice corresponde a la coordenada $(250,50)$. Para las restricciones 2 y 3."
   ]
  },
  {
   "cell_type": "code",
   "execution_count": 11,
   "metadata": {},
   "outputs": [
    {
     "data": {
      "text/plain": [
       "76.0"
      ]
     },
     "execution_count": 11,
     "metadata": {},
     "output_type": "execute_result"
    }
   ],
   "source": [
    "# Evaluamos en la función objetivo\n",
    "xA=40\n",
    "xB=260\n",
    "0.6*xA+0.2*xB"
   ]
  },
  {
   "cell_type": "code",
   "execution_count": 12,
   "metadata": {},
   "outputs": [
    {
     "data": {
      "text/plain": [
       "160.0"
      ]
     },
     "execution_count": 12,
     "metadata": {},
     "output_type": "execute_result"
    }
   ],
   "source": [
    "xA=250\n",
    "xB=50\n",
    "0.6*xA+0.2*xB"
   ]
  },
  {
   "cell_type": "markdown",
   "metadata": {},
   "source": [
    "El coste mínimo es de 76 u.m. y se produce con $40g$ de A y $260g$ de B."
   ]
  },
  {
   "cell_type": "markdown",
   "metadata": {},
   "source": [
    "### 2.2. Ejemplo básico 2\n",
    "Una  fábrica  de  carrocerías  de  automóviles  y camiones  tiene  dos naves. \n",
    "\n",
    "+ En  la nave A,  para  hacer  la  carrocería  de  un  camión,  se  invierten  siete  días-operario,  para  fabricar  la  de  un  coche  se  precisan dos días-operario.\n",
    "\n",
    "+ En la nave B se invierten tres días operario tanto en carrocerías de camión como de coche. \n",
    "\n",
    "Por limitaciones de mano de obra y maquinaria, la nave A dispone de $300$ días operario, y la nave B de $270$ días-operario.\n",
    "\n",
    "Si los beneficios que se obtienen por cada camión son de $600$ u.m y por  cada  automóvil  $200$ u.m,  ¿cuántas  unidades  de  cada  uno  se deben  producir  para maximizar las  ganancias? \n",
    "\n",
    "**Nota:** el problema $\\max_{\\boldsymbol{x}}\\boldsymbol{g}(\\boldsymbol{x})$ es equivalente a $\\min_{\\boldsymbol{x}}-\\boldsymbol{g}(\\boldsymbol{x})$."
   ]
  },
  {
   "cell_type": "markdown",
   "metadata": {},
   "source": [
    "---\n",
    "* Maximizar las ganancias\n",
    "* Las ganancias por cada camión son de 600 u.m. y por cada automóvil 200 u.m. Entonces, la función de costo se escribe como: $\\max 600x_C+200x_A\\equiv\\min-600x_C-200x_A$\n",
    "* $x_C$: piezas de carrocería de camión. $x_A$: piezas de carrocería de automóvil.\n",
    "* > Nave A: $7x_C+2x_A\\leq300$\n",
    "> \n",
    "> Nave B: $3x_C+3x_A\\leq270$"
   ]
  },
  {
   "cell_type": "markdown",
   "metadata": {},
   "source": [
    "---\n",
    "\n",
    "\n",
    "#### Bueno, y una vez planteado, ¿cómo se resuelve el problema?\n",
    "\n",
    "\n",
    "\n",
    "Este problema está sencillo pues solo es en dos variables. La solución gráfica es válida."
   ]
  },
  {
   "cell_type": "code",
   "execution_count": 1,
   "metadata": {},
   "outputs": [],
   "source": [
    "import numpy as np\n",
    "import sympy as sym\n",
    "import matplotlib.pyplot as plt"
   ]
  },
  {
   "cell_type": "code",
   "execution_count": 2,
   "metadata": {},
   "outputs": [],
   "source": [
    "def rA(xA):\n",
    "    xC=(300-2*xA)/7\n",
    "    return xC\n",
    "def rB(xA):\n",
    "    xC=(270-3*xA)/3\n",
    "    return xC"
   ]
  },
  {
   "cell_type": "code",
   "execution_count": 3,
   "metadata": {},
   "outputs": [
    {
     "data": {
      "image/png": "[encoded data removed]",
      "text/plain": [
       "<Figure size 432x288 with 1 Axes>"
      ]
     },
     "metadata": {
      "needs_background": "light"
     },
     "output_type": "display_data"
    }
   ],
   "source": [
    "xA=np.linspace(0,100,500)\n",
    "plt.plot(xA,rA(xA),'r',label='rA')\n",
    "plt.plot(xA,rB(xA),'b',label='rB')\n",
    "plt.legend(loc='best')             # Ubicamos las etiquetas 'rA' y 'rB'\n",
    "plt.grid()"
   ]
  },
  {
   "cell_type": "code",
   "execution_count": 4,
   "metadata": {},
   "outputs": [
    {
     "data": {
      "text/plain": [
       "[66]"
      ]
     },
     "execution_count": 4,
     "metadata": {},
     "output_type": "execute_result"
    }
   ],
   "source": [
    "sym.var('xA') # Se define 'xA' como simbólica\n",
    "sym.solve(rA(xA)-rB(xA),xA) # Argumentos: expresión igualada a cero, variable en dónde se encuentra la solución"
   ]
  },
  {
   "cell_type": "code",
   "execution_count": 6,
   "metadata": {},
   "outputs": [
    {
     "data": {
      "text/plain": [
       "(24.0, 24.0)"
      ]
     },
     "execution_count": 6,
     "metadata": {},
     "output_type": "execute_result"
    }
   ],
   "source": [
    "rA(66),rB(66)"
   ]
  },
  {
   "cell_type": "code",
   "execution_count": 7,
   "metadata": {},
   "outputs": [
    {
     "data": {
      "text/plain": [
       "27600"
      ]
     },
     "execution_count": 7,
     "metadata": {},
     "output_type": "execute_result"
    }
   ],
   "source": [
    "xC=24\n",
    "xA=66\n",
    "600*xC+200*xA"
   ]
  },
  {
   "cell_type": "markdown",
   "metadata": {},
   "source": [
    "La solución óptima se consigue fabricando 66 carrocerías de automóvil y 24 carrocerías de camión. La ganancia máxima es 27600.\n",
    "\n",
    "---"
   ]
  },
  {
   "cell_type": "markdown",
   "metadata": {},
   "source": [
    "Resolviendo el problema 2 (Maximización de utilidad en carros y camiones), con la función `linprog`"
   ]
  },
  {
   "cell_type": "markdown",
   "metadata": {},
   "source": [
    "## 3. ¿Cómo se resuelve en python?\n",
    "\n",
    "### 3.1 Librería `SciPy`\n",
    "\n",
    "<img style=\"float: right; margin: 0px 0px 15px 15px;\" src=\"https://scipy.org/_static/images/scipy_med.png\" width=\"200px\" height=\"75px\" />\n",
    "\n",
    "`SciPy` es un software de código abierto basado en `Python` para matemáticas, ciencia e ingeniería. \n",
    "\n",
    "La **Librería `SciPy`** es uno de los paquetes principales y provee varias rutinas numéricas eficientes. Entre ellas, para integración numérica y optimización.\n",
    "\n",
    "En esta clase, y en lo que resta del módulo, estaremos utilizando el módulo `optimize` de la librería `SciPy`.\n",
    "\n",
    "**Importémoslo**"
   ]
  },
  {
   "cell_type": "code",
   "execution_count": 8,
   "metadata": {},
   "outputs": [],
   "source": [
    "import scipy.optimize as opt"
   ]
  },
  {
   "cell_type": "markdown",
   "metadata": {},
   "source": [
    "# Importar el módulo optimize de la librería scipy"
   ]
  },
  {
   "cell_type": "markdown",
   "metadata": {},
   "source": [
    "El módulo `optimize` que acabamos de importar contiene varias funciones para optimización y búsqueda de raices. Entre ellas se encuentra la función `linprog`\n",
    "\n",
    "---"
   ]
  },
  {
   "cell_type": "code",
   "execution_count": 9,
   "metadata": {},
   "outputs": [],
   "source": [
    "opt.linprog?"
   ]
  },
  {
   "cell_type": "code",
   "execution_count": 10,
   "metadata": {},
   "outputs": [
    {
     "data": {
      "text/plain": [
       "     con: array([], dtype=float64)\n",
       "     fun: -27599.99999954711\n",
       " message: 'Optimization terminated successfully.'\n",
       "     nit: 5\n",
       "   slack: array([4.94236474e-09, 4.31248282e-09])\n",
       "  status: 0\n",
       " success: True\n",
       "       x: array([24., 66.])"
      ]
     },
     "execution_count": 10,
     "metadata": {},
     "output_type": "execute_result"
    }
   ],
   "source": [
    "c=np.array([-600,-200])\n",
    "A=np.array([[7,2],[3,3]])\n",
    "b=np.array([300,270])\n",
    "opt.linprog(c,A,b)"
   ]
  },
  {
   "cell_type": "markdown",
   "metadata": {},
   "source": [
    "fun: La solución óptima.\n",
    "\n",
    "nit: número de iteraciones para encontrar la solución.\n",
    "\n",
    "slack: El excedente de las restricciones.\n",
    "\n",
    "x: Los valores óptimos de las variables.\n",
    "\n",
    "---"
   ]
  },
  {
   "cell_type": "markdown",
   "metadata": {},
   "source": [
    "**Actividad.** Mónica hace aretes y cadenitas de joyería. Es tan buena, que todo lo que hace lo vende.\n",
    "\n",
    "Le toma 30 minutos hacer un par de aretes y una hora hacer una cadenita, y como Mónica también es estudihambre, solo dispone de 10 horas a la semana para hacer las joyas. Por otra parte, el material que compra solo le alcanza para hacer 15 unidades (el par de aretes cuenta como unidad) de joyas por semana.\n",
    "\n",
    "La utilidad que le deja la venta de las joyas es $\\$15$ en cada par de aretes y $\\$20$ en cada cadenita.\n",
    "\n",
    "¿Cuántos pares de aretes y cuántas cadenitas debería hacer Mónica para maximizar su utilidad?\n",
    "\n",
    "Formular el problema en la forma explicada y obtener la solución gráfica (puede ser a mano).\n",
    "\n",
    "**Diez minutos: quien primero lo haga, comparte pantalla para explicarlo y le subiré la nota de alguna tarea a 100.**"
   ]
  },
  {
   "cell_type": "markdown",
   "metadata": {},
   "source": [
    "* 0.5h: par de aretes, ganancia: \\$15\n",
    "* 1h: cadenita, ganancia: \\$20\n",
    "* $\\max 15 u$\n",
    "* $\\max 10 h$"
   ]
  },
  {
   "cell_type": "markdown",
   "metadata": {},
   "source": [
    "* Maximizar la ganancia\n",
    "* $\\max15x_A+20x_C\\equiv\\min-15x_A-20x_C$. Donde $x_A$: piezas de aretes, $x_C$: piezas de cadenitas.\n",
    "* > Restricción de tiempo (en horas) $0.5x_A+x_C\\leq 10$\n",
    "> \n",
    "> Restricción de piezas $x_A+x_C\\leq15$"
   ]
  },
  {
   "cell_type": "code",
   "execution_count": 14,
   "metadata": {},
   "outputs": [
    {
     "data": {
      "text/plain": [
       "     con: array([], dtype=float64)\n",
       "     fun: -250.0\n",
       " message: 'Optimization terminated successfully.'\n",
       "     nit: 3\n",
       "   slack: array([0., 0.])\n",
       "  status: 0\n",
       " success: True\n",
       "       x: array([10.,  5.])"
      ]
     },
     "execution_count": 14,
     "metadata": {},
     "output_type": "execute_result"
    }
   ],
   "source": [
    "c=np.array([-15,-20])\n",
    "A=np.array([[0.5,1],[1,1]])\n",
    "b=np.array([10,15])\n",
    "opt.linprog(c,A,b,method='simplex')"
   ]
  },
  {
   "cell_type": "markdown",
   "metadata": {},
   "source": [
    "---\n",
    "La solución con la función `linprog` de `SciPy` resuelve el problema de minimización para un criterio de optimización lineal sujeto a restricciones limitadas por un valor superior\n",
    "\\begin{eqnarray}\n",
    "\\min_{x}&c^Tx\\\\\n",
    "s.a.&\\quad A_{ub}x\\leq b_{ub}\n",
    "\\end{eqnarray}\n",
    "\n",
    "Si se desea maximizar el criterio de optimización, entonces éste se escribe negativo\n",
    "$$\n",
    "\\max_x c^Tx\\equiv \\min_x -c^Tx.\n",
    "$$\n",
    "\n",
    "Además si tenemos restricciones limitadas por un valor inferior, la inecuación se escribe con ambos lados negativos\n",
    "$$\n",
    "A_{ub}x\\geq b_{ub}\\equiv-A_{ub}x\\leq -b_{ub}\n",
    "$$"
   ]
  },
  {
   "cell_type": "markdown",
   "metadata": {},
   "source": [
    "### 3.2 Solución del ejemplo básico con linprog\n",
    "Ya hicimos la solución gráfica. Contrastemos con la solución que nos da `linprog`\n",
    "\n",
    "- $\\boldsymbol{c}=\\left[0.6 \\quad 0.2\\right]^\\top$,\n",
    "- $\\boldsymbol{A}=\\left[\\begin{array}{cc}-0.3 & -0.05 \\\\ -0.01 & -0.07\\\\ -0.1 & -0.1\\end{array}\\right]$, y\n",
    "- $\\boldsymbol{b}=\\left[-25 \\quad -6\\quad -30\\right]^\\top$."
   ]
  },
  {
   "cell_type": "code",
   "execution_count": 1,
   "metadata": {},
   "outputs": [],
   "source": [
    "import numpy as np\n",
    "import scipy.optimize as opt"
   ]
  },
  {
   "cell_type": "code",
   "execution_count": 2,
   "metadata": {},
   "outputs": [
    {
     "data": {
      "text/plain": [
       "     con: array([], dtype=float64)\n",
       "     fun: 76.00000000328913\n",
       " message: 'Optimization terminated successfully.'\n",
       "     nit: 6\n",
       "   slack: array([9.16848819e-10, 1.26000000e+01, 1.51847956e-09])\n",
       "  status: 0\n",
       " success: True\n",
       "       x: array([ 40.        , 260.00000001])"
      ]
     },
     "execution_count": 2,
     "metadata": {},
     "output_type": "execute_result"
    }
   ],
   "source": [
    "c=np.array([0.6,0.2])\n",
    "A=np.array([[-0.3,-0.05],[-0.01,-0.07],[-0.1,-0.1]])\n",
    "b=np.array([-25,-6,-30])\n",
    "opt.linprog(c,A,b)"
   ]
  },
  {
   "cell_type": "markdown",
   "metadata": {},
   "source": [
    "## 4. Problema de transporte 1\n",
    "- **Referencia**: http://bdigital.unal.edu.co/5037/4/guillermojimenezlozano.2006_Parte1.pdf\n",
    "\n",
    "Una  empresa tiene dos factorías A y B.  En ellas  se fabrica un determinado  producto, a razón de 500  y 400 unidades por día respectivamente.  El producto  ha  de  ser distribuido posteriormente  a  tres  centros  C,  D  y  E,  que  requieren,  respectivamente,  200,  300  y  400  unidades.  Los  costos  de  transportar cada unidad del producto desde cada factoría a cada centro distribuidor son los  indicados  en la tabla  siguiente: \n",
    "\n",
    "Factoría|C|D|E|Fabricación (Unidades)\n",
    ":----|----|----|----|----\n",
    "A|  50 u.m|60 u.m|10 u.m|500 u\n",
    "B|  25 u.m|40 u.m|20 u.m|400 u\n",
    "Demanda|200|300|400|\n",
    "\n",
    "**¿De qué manera  deben  organizar  el transporte a fin de que los gastos sean mínimos?**\n",
    "\n",
    "\n",
    "Formulemos el problema para ser resuelto por la programación lineal con\n",
    "- $x_1$: unidades transportadas de la factoría \"A\" al centro \"C\"\n",
    "- $x_2$: unidades transportadas de la factoría \"A\" al centro \"D\"\n",
    "- $x_3$: unidades transportadas de la factoría \"A\" al centro \"E\"\n",
    "- $x_4$: unidades transportadas de la factoría \"B\" al centro \"C\"\n",
    "- $x_5$: unidades transportadas de la factoría \"B\" al centro \"D\"\n",
    "- $x_6$: unidades transportadas de la factoría \"B\" al centro \"E\"\n",
    "\n",
    "se tienen las siguientes ecuaciones:\n",
    "\n",
    "Restricciones de la producción:\n",
    "\n",
    "- $x_1 + x_2 + x_3 \\leq 500$\n",
    "- $x_4 + x_5 + x_6 \\leq 400$\n",
    "\n",
    "Restricciones del consumo:\n",
    "\n",
    "- $x_1 + x_4 = 200$\n",
    "- $x_2 + x_5 = 300$\n",
    "- $x_3 + x_6 = 400$\n",
    "\n",
    "La función objetivo será:\n",
    "\n",
    "$$\\min_{x_1,\\dots,x_6}50x_1 + 60x_2 + 10x_3 + 25x_4 + 40x_5 + 20x_6$$\n",
    "\n",
    "Resolver con `linprog`"
   ]
  },
  {
   "cell_type": "code",
   "execution_count": 4,
   "metadata": {},
   "outputs": [
    {
     "data": {
      "text/plain": [
       "     con: array([0., 0., 0.])\n",
       "     fun: 23000.0\n",
       " message: 'Optimization terminated successfully.'\n",
       "     nit: 6\n",
       "   slack: array([0., 0.])\n",
       "  status: 0\n",
       " success: True\n",
       "       x: array([  0., 100., 400., 200., 200.,   0.])"
      ]
     },
     "execution_count": 4,
     "metadata": {},
     "output_type": "execute_result"
    }
   ],
   "source": [
    "c=np.array([50,60,10,25,40,20])                           # Coeficientes de la Función objetivo\n",
    "Aub=np.array([[1,1,1,0,0,0],[0,0,0,1,1,1]])               # Coeficientes de las restricciones de límite superior\n",
    "bub=np.array([500,400])                                   # Los límites superiores\n",
    "Aeq=np.array([[1,0,0,1,0,0],[0,1,0,0,1,0],[0,0,1,0,0,1]]) # Coefiecientes de las restricciones de igualdad\n",
    "beq=np.array([200,300,400])                               # Los valores de igualdad\n",
    "\n",
    "opt.linprog(c,Aub,bub,Aeq,beq,method='simplex')           # Cambiando al método Simplex"
   ]
  },
  {
   "cell_type": "markdown",
   "metadata": {},
   "source": [
    "El costo mínimo de transporte es de 23000 u.m. y se consigue transportando 100 unidades de A al centro D, 400 unidades de A al centro E, 200 unidades de la fabrica B al centro C y otras 200 de B a D."
   ]
  },
  {
   "cell_type": "markdown",
   "metadata": {},
   "source": [
    "## 5. Optimización de inversión en bonos\n",
    "\n",
    "**Referencia:**"
   ]
  },
  {
   "cell_type": "code",
   "execution_count": 5,
   "metadata": {},
   "outputs": [
    {
     "data": {
      "image/jpeg": "[encoded data removed]",
      "text/html": [
       "\n",
       "        <iframe\n",
       "            width=\"400\"\n",
       "            height=\"300\"\n",
       "            src=\"https://www.youtube.com/embed/gukxBus8lOs\"\n",
       "            frameborder=\"0\"\n",
       "            allowfullscreen\n",
       "        ></iframe>\n",
       "        "
      ],
      "text/plain": [
       "<IPython.lib.display.YouTubeVideo at 0x227f21f16a0>"
      ]
     },
     "execution_count": 5,
     "metadata": {},
     "output_type": "execute_result"
    }
   ],
   "source": [
    "from IPython.display import YouTubeVideo\n",
    "YouTubeVideo('gukxBus8lOs')"
   ]
  },
  {
   "cell_type": "markdown",
   "metadata": {},
   "source": [
    "El objetivo de este problema es determinar la mejor estrategia de inversión, dados diferentes tipos de bono, la máxima cantidad que puede ser invertida en cada bono, el porcentaje de retorno y los años de madurez. También hay una cantidad fija de dinero disponible ($\\$750,000$). Por lo menos la mitad de este dinero debe ser invertido en bonos con 10 años o más para la madurez. Se puede invertir un máximo del $25\\%$ de esta cantidad en cada bono. Finalmente, hay otra restricción que no permite usar más de $35\\%$ en bonos de alto riesgo.\n",
    "\n",
    "Existen seis (6) opciones de inversión con las letras correspondientes $A_i$\n",
    "\n",
    "1. $A_1$:(Tasa de retorno=$8.65\\%$; Años para la madurez=11, Riesgo=Bajo)\n",
    "1. $A_2$:(Tasa de retorno=$9.50\\%$; Años para la madurez=10, Riesgo=Alto)\n",
    "1. $A_3$:(Tasa de retorno=$10.00\\%$; Años para la madurez=6, Riesgo=Alto)\n",
    "1. $A_4$:(Tasa de retorno=$8.75\\%$; Años para la madurez=10, Riesgo=Bajo)\n",
    "1. $A_5$:(Tasa de retorno=$9.25\\%$; Años para la madurez=7, Riesgo=Alto)\n",
    "1. $A_6$:(Tasa de retorno=$9.00\\%$; Años para la madurez=13, Riesgo=Bajo)\n",
    "\n",
    "Lo que se quiere entonces es maximizar el retorno que deja la inversión.\n",
    "\n",
    "Este problema puede ser resuelto con programación lineal. Formalmente, puede ser descrito como:\n",
    "\n",
    "$$\\max_{A_1,A_2,...,A_6}\\sum^{6}_{i=1} A_iR_i,$$\n",
    "\n",
    "donde $A_i$ representa la cantidad invertida en la opción, y $R_i$ representa la tasa de retorno respectiva."
   ]
  },
  {
   "cell_type": "code",
   "execution_count": 8,
   "metadata": {},
   "outputs": [
    {
     "data": {
      "text/plain": [
       "     con: array([], dtype=float64)\n",
       "     fun: -68887.5\n",
       " message: 'Optimization terminated successfully.'\n",
       "     nit: 12\n",
       "   slack: array([     0., 187500.,  75000., 112500.,      0.,      0., 187500.,\n",
       "            0.,      0.])\n",
       "  status: 0\n",
       " success: True\n",
       "       x: array([112500.,  75000., 187500., 187500.,      0., 187500.])"
      ]
     },
     "execution_count": 8,
     "metadata": {},
     "output_type": "execute_result"
    }
   ],
   "source": [
    "c=np.array([-0.0865,-0.095,-0.1,-0.0875,-0.0925,-0.09])\n",
    "A=np.array([[1,1,1,1,1,1],\n",
    "            [-1,-1,0,-1,0,-1],\n",
    "            [1,0,0,0,0,0],\n",
    "            [0,1,0,0,0,0],\n",
    "            [0,0,1,0,0,0],\n",
    "            [0,0,0,1,0,0],\n",
    "            [0,0,0,0,1,0],\n",
    "            [0,0,0,0,0,1],\n",
    "            [0,1,1,0,1,0]])\n",
    "b=np.array([750000,-375000,0.25*750000,0.25*750000,0.25*750000,0.25*750000,0.25*750000,0.25*750000,0.35*750000])\n",
    "opt.linprog(c,A,b,method='simplex')"
   ]
  },
  {
   "cell_type": "code",
   "execution_count": 7,
   "metadata": {},
   "outputs": [
    {
     "data": {
      "text/plain": [
       "187500.0"
      ]
     },
     "execution_count": 7,
     "metadata": {},
     "output_type": "execute_result"
    }
   ],
   "source": [
    "750000*0.25"
   ]
  },
  {
   "cell_type": "code",
   "execution_count": 10,
   "metadata": {},
   "outputs": [
    {
     "data": {
      "text/plain": [
       "     con: array([], dtype=float64)\n",
       "     fun: -68887.5\n",
       " message: 'Optimization terminated successfully.'\n",
       "     nit: 12\n",
       "   slack: array([     0., 187500.,      0.])\n",
       "  status: 0\n",
       " success: True\n",
       "       x: array([112500.,  75000., 187500., 187500.,      0., 187500.])"
      ]
     },
     "execution_count": 10,
     "metadata": {},
     "output_type": "execute_result"
    }
   ],
   "source": [
    "A=np.array([[1,1,1,1,1,1],[-1,-1,0,-1,0,-1],[0,1,1,0,1,0]])\n",
    "b=np.array([750000,-375000,0.35*750000])\n",
    "opt.linprog(c,A,b,method='simplex',bounds=(0,0.25*750000))"
   ]
  }
 ],
 "metadata": {
  "kernelspec": {
   "display_name": "Python 3",
   "language": "python",
   "name": "python3"
  },
  "language_info": {
   "codemirror_mode": {
    "name": "ipython",
    "version": 3
   },
   "file_extension": ".py",
   "mimetype": "text/x-python",
   "name": "python",
   "nbconvert_exporter": "python",
   "pygments_lexer": "ipython3",
   "version": "3.8.8"
  }
 },
 "nbformat": 4,
 "nbformat_minor": 2
}
