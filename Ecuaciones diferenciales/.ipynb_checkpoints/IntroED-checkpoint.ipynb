{
 "cells": [
  {
   "cell_type": "markdown",
   "metadata": {},
   "source": [
    "#  Introducción a ecuaciones diferenciales\n",
    "\n",
    "<img style=\"float: right; margin: 0px 0px 15px 15px;\" src=\"https://upload.wikimedia.org/wikipedia/commons/3/39/GodfreyKneller-IsaacNewton-1689.jpg\" width=\"300px\" height=\"100px\" />\n",
    "\n",
    "> Las primeras ecuaciones diferenciales se encuentran históricamente con la invención del cálculo por Newton y Leibniz. En el Capítulo 2 de su trabajo \"Methodus fluxionum et Serierum Infinitarum\", (Newton, 1671), Newton describe ecuaciones del tipo \n",
    "\n",
    "$$\\frac{dy(x)}{dx}=f(x,y(x)).$$\n",
    "\n",
    "**Referencia**\n",
    "- https://en.wikipedia.org/wiki/Differential_equation\n",
    "- https://www.mathsisfun.com/calculus/differential-equations.html"
   ]
  },
  {
   "cell_type": "markdown",
   "metadata": {},
   "source": [
    "## 0. Nociones básicas\n",
    "\n",
    "### Definición\n",
    "Una ecuación diferencial es una ecuación que involucra una función y una o más de sus derivadas.\n",
    "\n",
    "Por ejemplo\n",
    "\n",
    "<img style=\"float: left; margin: 0px 0px 15px 15px;\" src=\"https://www.mathsisfun.com/calculus/images/diff-eq-1.svg\" width=\"300px\" height=\"100px\" />"
   ]
  },
  {
   "cell_type": "markdown",
   "metadata": {},
   "source": [
    "una ecuación de la función $y(x)$ y su derivada $\\frac{dy(x)}{dx}$."
   ]
  },
  {
   "cell_type": "markdown",
   "metadata": {},
   "source": [
    "Pero bueno, cuando tenemos una **ecuación**, ¿qué hacemos con ella?"
   ]
  },
  {
   "cell_type": "markdown",
   "metadata": {},
   "source": [
    "### Solución\n",
    "\n",
    "Decimos que hemos resuelto la ecuación diferencial si descubrimos la función $y(x)$ (o conjunto de funciones $y(x)$).\n",
    "\n",
    "**Ejemplo** Estudiar la ecuación diferencial:\n",
    "\n",
    "$$\\frac{\\text{d}x}{\\text{d}t}=a x(t), \\quad a \\in \\mathbb{R}.$$"
   ]
  },
  {
   "cell_type": "markdown",
   "metadata": {},
   "source": [
    "___\n",
    "Cuando una ecuación puede ser resuelta, hay varios trucos para intentar resolverla. En muchos casos, no es posible o es muy difícil encontrar la solución analítica. Por eso, en el curso examinaremos la forma de encontrar solución numérica."
   ]
  },
  {
   "cell_type": "markdown",
   "metadata": {},
   "source": [
    "## 1. ¿Porqué son útiles las ecuaciones diferenciales?\n",
    "\n",
    "Antes qué nada, conceptualmente, **¿qué significa la derivada $\\frac{dx}{dt}$?**"
   ]
  },
  {
   "cell_type": "markdown",
   "metadata": {},
   "source": [
    "Nuestro mundo, y particularmente los fenómenos que estudiamos en ingeniería, es cambiante (evoluciona) en el tiempo. De modo que las descripciones (modelos) de como cambian las cosas en el tiempo terminan como una ecuación diferencial."
   ]
  },
  {
   "cell_type": "markdown",
   "metadata": {},
   "source": [
    "### Ejemplos."
   ]
  },
  {
   "cell_type": "markdown",
   "metadata": {},
   "source": [
    "**1. Biología (crecimiento poblacional de conejos)**\n",
    "\n",
    "Mientras más conejos tengamos, más bebés conejo obtendremos (los conejos tienen una grandiosa habilidad de reproducción). Luego, los bebés conejo crecen y tienen bebés a la vez. La población crece muy muy rápido.\n",
    "\n",
    "Partes importantes:\n",
    "\n",
    "- Población en el tiempo $t$: $N(t)$.\n",
    "- Tasa de crecimiento: $r$.\n",
    "- Tasa de cambio de la población: $\\frac{dN}{dt}$.\n",
    "\n",
    "Imaginemos algunos valores:\n",
    "\n",
    "- La población actual (en el tiempo $t=0$) es $N(0)=1000$ conejos.\n",
    "- La tasa de crecimiento es de $0.01$ conejos por semana por cada conejo actualmente.\n",
    "\n",
    "Entonces la tasa de cambio de la población $\\left.\\frac{dN}{dt}\\right|_{t=0}=0.01\\times 1000$.\n",
    "\n",
    "Sin embargo, esto sólo es cierto en el tiempo específico $t=0$, y esto no significa que la población crece de manera constante.\n",
    "\n",
    "Recordemos que: mientras más conejos, más conejos nuevos se obtienen.\n",
    "\n",
    "De manera que es mejor decir que la tasa de cambio (en cualquier instante de tiempo $t$) es la tasa de crecimiento $r$ veces la población $N(t)$ en ese instante:\n",
    "\n",
    "$$\\frac{dN}{dt}=rN,$$\n",
    "\n",
    "y eso es una ecuación diferencial, porque es una ecuación de la función $N(t)$ y su derivada.\n",
    "\n",
    "**El poder de las matemáticas... con esa simple expresión decimos que \"la tasa de cambio de la población en el tiempo equivale a la tasa de crecimiento veces la población\".**"
   ]
  },
  {
   "cell_type": "markdown",
   "metadata": {},
   "source": [
    "### <font color=green>Las ecuaciones diferenciales pueden describir como cambia la población, como se dispersa el calor, como un material radioactivo se desintegra y mucho más. Son una forma natural de describir cambios o movimiento en el universo..</font>\n"
   ]
  },
  {
   "cell_type": "markdown",
   "metadata": {},
   "source": [
    "### ¿Qué hacemos con la ecuación diferencial?\n",
    "\n",
    "En principio, las ecuaciones diferenciales son magníficas para expresar (modelar) muchos fenómenos. Sin embargo, son difíciles de usar tal cual están.\n",
    "\n",
    "De manera que intentamos **resolverlas** encontrando la(s) función(es) que satisfagan la ecuación, es decir, quitando la derivada, de manera que podamos hacer cálculos, gráficas, predecir, y todo lo demás."
   ]
  },
  {
   "cell_type": "markdown",
   "metadata": {},
   "source": [
    "**2. Finanzas (interés continuamente compuesto)**\n",
    "\n",
    "El valor del dinero cambia en el tiempo. Esto se expresa por medio de tasas de interés. Normalmente, el interés se puede calcular en tiempo fijados como años, meses, etcétera, y esto se añade al capital inicial y se reinvierte.\n",
    "\n",
    "Esto se llama interés compuesto.\n",
    "\n",
    "Pero cuando se compone continuamente (en todo tiempo), entonces a cada instante, el interés se añade proporcionalmente a la inversión (o préstamo).\n",
    "\n",
    "Mientras más inversión (o préstamo) más interés gana.\n",
    "\n",
    "Usando $t$ para el tiempo, $r$ para la tasa de interés y $V(t)$ para el valor en el instante $t$ de la inversión, podemos expresar la siguiente ecuación:\n",
    "\n",
    "$$\\frac{dV}{dt}=rV.$$\n",
    "\n",
    "Notar que es la misma ecuación que tenemos para los conejos, solo con diferentes letras. Entonces, las matemáticas muestran que esos dos fenómenos se comportan de la misma manera.\n",
    "\n",
    "Ya dijimos que como ecuación, es difícil usar esta información. Pero como ya vimos, se puede resolver (por separación de variables) y la solución es:\n",
    "\n",
    "$$V(t) = P e^{rt},$$\n",
    "\n",
    "donde $P$ es el principal (capital inicial).\n",
    "\n",
    "De forma que un préstamo continuamente compuesto de $1,000 por dos años y una tasa de interés del 10% se vuelve:\n",
    "\n",
    "$$V = 1000 × e^{2\\times0.1}$$\n",
    "$$V = 1000 × 1.22140...$$\n",
    "$$V = $1,221.40$$"
   ]
  },
  {
   "cell_type": "markdown",
   "metadata": {},
   "source": [
    "**3. Mecánica Clásica**\n",
    "\n",
    "Un resorte tiene una masa amarrada:\n",
    "\n",
    "- la masa es jalada hacia abajo por la acción de gravedad,\n",
    "- cuando el resorte se estira, su tensión se incrementa,\n",
    "- la masa se detiene,\n",
    "- la tensión del resorte la jala de nuevo hacia arriba,\n",
    "- luego baja, luego sube, luego baja, etcétera...\n"
   ]
  }
 ],
 "metadata": {
  "kernelspec": {
   "display_name": "Python 3",
   "language": "python",
   "name": "python3"
  },
  "language_info": {
   "codemirror_mode": {
    "name": "ipython",
    "version": 3
   },
   "file_extension": ".py",
   "mimetype": "text/x-python",
   "name": "python",
   "nbconvert_exporter": "python",
   "pygments_lexer": "ipython3",
   "version": "3.8.8"
  }
 },
 "nbformat": 4,
 "nbformat_minor": 2
}
