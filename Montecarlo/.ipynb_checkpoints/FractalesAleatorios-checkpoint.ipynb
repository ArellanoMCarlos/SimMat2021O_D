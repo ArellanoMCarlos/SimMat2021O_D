{
 "cells": [
  {
   "cell_type": "markdown",
   "metadata": {},
   "source": [
    "# Fractales aleatorios\n",
    "\n",
    "<img style=\"float: left; margin: 0px 0px 15px 15px;\" src=\"https://upload.wikimedia.org/wikipedia/commons/f/fa/Fractal_Crown_of_morgoth2_5600x4200.jpg\" width=\"350px\" height=\"125px\" />\n",
    "\n",
    "<img style=\"float: right; margin: 0px 0px 15px 15px;\" src=\"https://upload.wikimedia.org/wikipedia/commons/8/80/Super-volcano_Tierazon_fractal_Tiera4414.jpg\" width=\"350px\" height=\"125px\" />\n"
   ]
  },
  {
   "cell_type": "markdown",
   "metadata": {},
   "source": [
    "**Referencias:**\n",
    "- http://fractalfoundation.org/resources/what-are-fractals/\n",
    "- https://georgemdallas.wordpress.com/2014/05/02/what-are-fractals-and-why-should-i-care/\n",
    "- https://en.wikipedia.org/wiki/Barnsley_fern\n",
    "- http://www.home.aone.net.au/~byzantium/ferns/fractal.html"
   ]
  },
  {
   "cell_type": "markdown",
   "metadata": {},
   "source": [
    "Antes que nada, ¿qué son fractales?"
   ]
  },
  {
   "cell_type": "markdown",
   "metadata": {},
   "source": [
    "___\n",
    "## 1. Fractales\n",
    "\n",
    "<img style=\"float: right; margin: 0px 0px 15px 15px;\" src=\"https://upload.wikimedia.org/wikipedia/commons/2/21/Mandel_zoom_00_mandelbrot_set.jpg\" width=\"400px\" height=\"125px\" />\n",
    "\n",
    "- La geometría fractal es un campo de las matemáticas que tiene lugar a partir de los años setenta, y fue desarrollada principalmente por [Benoit Mandelbrot](https://es.wikipedia.org/wiki/Beno%C3%AEt_Mandelbrot).\n",
    "\n",
    "- La geometría elemental que aprendimos en la escuela se trataba de estudiar (y hacer) formas o figuras. Pues bien, la geometría fractal no es distinta.\n",
    "\n",
    "- Mientras que en geometría clásica las formas son suaves (círculos, triángulos, etcétera), las formas que produce la geometría fractal es tosca e infinitamente compleja.\n",
    "\n",
    "Bueno, ¿y cuál es su importancia?\n",
    "1. El proceso por el cual se obtienen formas fractales es impresionantemente simple y completamente diferente al seguido en geometría clásica. Mientras la geometría clásica se usan fórmulas para definir una forma, la geometría fractal usa iteración. Básicamente, podríamos decir que los fractales son imágenes de sistemas dinámicos.\n",
    "\n",
    "2. Las formas fractales se parecen mucho a formas encontradas en la naturaleza. Este impresionante hecho es difícil de ignorar. Como sabemos no existen círculos perfectos en la naturaleza, ni cuadrados perfectos. No es solo eso, el solo mirar los árboles, ríos o montañas, y no se encuentra una forma que sea descrita por una fórmula. Sin embargo, usando fórmulas simples iteradas muchas veces, la geometría fractal puede modelar esos fenómenos con alta precisión. Si puedes usar matemáticas simples para modelar el mundo, vas por buen camino.\n",
    "\n",
    "\n",
    "<img style=\"float: center; margin: 0px 0px 15px 15px;\" src=\"https://upload.wikimedia.org/wikipedia/commons/thumb/4/4d/Fractal_canopy.svg/1200px-Fractal_canopy.svg.png\" width=\"400px\" height=\"125px\" />"
   ]
  },
  {
   "cell_type": "markdown",
   "metadata": {},
   "source": [
    "### 1.1 Transformaciones afines\n",
    "\n",
    "La naturaleza de cualquier transformación afín permite clasificar a ésta dentro de dos grandes grupos: lineales y no lineales. La diferencia fundamental entre ellas reside en que las primeras respetan las líneas rectas que constituyen la forma geométrica sobre la que se aplican, mientras que las segundas no, y por tanto actúan sobre ellas alterando algo más que su posición, orientación y tamaño.\n",
    "\n",
    "Tomemos como figura geométrica inicial un cuadrado de lado $L$ y situémoslo en un sistema de referencia arbitrario, de forma tal que su vértice inferior izquierdo coincida con el origen. Cada punto en la frontera o dentro del cuadrado puede así caracterizarse por un par de coordenadas $(x, y)$, donde $x$ y $y$ representan números que siempre son mayores que 0 pero menores que $L$.\n",
    "\n",
    "Referencia: [Fractus, fracta, fractal. Fractales, de laberintos y espejos](http://bibliotecadigital.ilce.edu.mx/sites/ciencia/volumen3/ciencia3/147/htm/fractus.htm)"
   ]
  },
  {
   "cell_type": "code",
   "execution_count": 1,
   "metadata": {},
   "outputs": [],
   "source": [
    "import matplotlib.pyplot as plt"
   ]
  },
  {
   "cell_type": "code",
   "execution_count": 2,
   "metadata": {},
   "outputs": [
    {
     "data": {
      "image/png": "[encoded data removed]",
      "text/plain": [
       "<Figure size 360x360 with 1 Axes>"
      ]
     },
     "metadata": {
      "needs_background": "light"
     },
     "output_type": "display_data"
    }
   ],
   "source": [
    "# Construímos un cuadro de lado 'L'\n",
    "L=1\n",
    "x=[0,L,L,0,0]\n",
    "y=[0,0,L,L,0]\n",
    "\n",
    "plt.figure(figsize=(5,5))\n",
    "plt.plot(x,y)\n",
    "plt.grid()"
   ]
  },
  {
   "cell_type": "markdown",
   "metadata": {},
   "source": [
    "¿Cómo construir una transformación geométrica que aplicada sobre cada punto de este cuadrado dé lugar a una forma similar; pero de la mitad de tamaño que la original?\n",
    "\n",
    "El problema se resuelve fácilmente si consideramos que las coordenadas de todo punto en la nueva figura, que llamaremos $(x_n, y_n)$ para distinguirlas, pueden generarse a partir de las de la primera $(x, y)$ siguiendo una regla que reduzca todo a la mitad, tanto en la dirección $x$ como en la $y$:\n",
    "\\begin{eqnarray}\n",
    "x_n&=&0.5x\\\\\n",
    "y_n&=&0.5y\n",
    "\\end{eqnarray}\n",
    "Para ilustrarlo basta, por ejemplo, aplicar la receta anterior a las coordenadas de los cuatro vértices del cuadrado inicial:\n",
    "\\begin{eqnarray*}\n",
    "(0,0)&\\rightarrow&(0,0)\\\\\n",
    "(0,L)&\\rightarrow&(0,L/2)\\\\\n",
    "(L,0)&\\rightarrow&(L/2,0)\\\\\n",
    "(L,L)&\\rightarrow&(L/2,L/2)\n",
    "\\end{eqnarray*}\n",
    "En un caso como este se dice que la transformación ha introducido un factor de escala $r=0.5$. Como la figura no ha sido deformada se dice que se ha hecho una transformación de **similitud**.\n",
    "\n",
    "Si se utilizan parámetros de escala distintos para cada coordenada, el resultado ya no es un cuadrado regular, si no un rectángulo de lados distintos. Esta transformación de carácter más general se conoce como transformación **afín**."
   ]
  },
  {
   "cell_type": "code",
   "execution_count": 5,
   "metadata": {},
   "outputs": [],
   "source": [
    "import numpy as np"
   ]
  },
  {
   "cell_type": "code",
   "execution_count": 7,
   "metadata": {},
   "outputs": [
    {
     "data": {
      "image/png": "[encoded data removed]",
      "text/plain": [
       "<Figure size 360x360 with 1 Axes>"
      ]
     },
     "metadata": {
      "needs_background": "light"
     },
     "output_type": "display_data"
    }
   ],
   "source": [
    "plt.figure(figsize=(5,5))\n",
    "plt.plot(x,y)\n",
    "\n",
    "r=0.5\n",
    "s=0.8\n",
    "xn=r*np.array(x)\n",
    "yn=s*np.array(y)\n",
    "\n",
    "plt.plot(xn,yn,'r')\n",
    "plt.grid()"
   ]
  },
  {
   "cell_type": "markdown",
   "metadata": {},
   "source": [
    "La transformación afín permite además trasladar el objeto y rotarlo.\n",
    "\n",
    "Para desplazar nuestro cuadrado, es importante notar que todo cambio en la posición de una figura puede descomponerse en desplazamientos simples paralelos a cada uno de los ejes del sistema de referencia elegido: primero la movemos horizontalmente y luego verticalmente (o al revés). Sin embargo, para asegurar que la forma mantiene su estructura durante el proceso, es necesario que todos los puntos en ella se trasladen de la misma manera.\n",
    "\\begin{eqnarray}\n",
    "x_n=x+e\\\\\n",
    "y_n=y+f\n",
    "\\end{eqnarray}\n",
    "Ahora, ¿qué hacer para trasladar y reescalar simultáneamente la forma geométrica? Pues como cada cosa se puede hacer de manera independiente, basta ponerlo todo junto:\n",
    "\\begin{eqnarray}\n",
    "x_n=r\\;x+e\\\\\n",
    "y_n=s\\;y+f\n",
    "\\end{eqnarray}"
   ]
  },
  {
   "cell_type": "code",
   "execution_count": 9,
   "metadata": {},
   "outputs": [
    {
     "data": {
      "image/png": "[encoded data removed]",
      "text/plain": [
       "<Figure size 360x360 with 1 Axes>"
      ]
     },
     "metadata": {
      "needs_background": "light"
     },
     "output_type": "display_data"
    }
   ],
   "source": [
    "e=0.5\n",
    "f=0.2\n",
    "xn=r*np.array(x)+e\n",
    "yn=s*np.array(y)+f\n",
    "\n",
    "plt.figure(figsize=(5,5))\n",
    "plt.plot(x,y)\n",
    "plt.plot(xn,yn,'r')\n",
    "plt.grid()"
   ]
  },
  {
   "cell_type": "markdown",
   "metadata": {},
   "source": [
    "Cuando se desea rotar una figura cuyos puntos se designan con las coordenadas $(x, y)$, basta aplicar sobre todos ellos la siguiente transformación para obtener las coordenadas $(x_n, y_n)$ de la nueva figura:\n",
    "\\begin{eqnarray}\n",
    "x_n&=&x\\cos(\\alpha)-y\\sin(\\beta)\\\\\n",
    "y_n&=&x\\sin(\\alpha)+y\\cos(\\beta),\n",
    "\\end{eqnarray}\n",
    "donde $\\alpha$ y $\\beta$ son los ángulos en que se rotan los lados horizontales y verticales de la figura original, medidos con respecto a los ejes $x$ y $y$, respectivamente.\n",
    "\n",
    "La transformación más general resulta entonces\n",
    "\\begin{eqnarray}\n",
    "x_n&=&r\\;x\\cos(\\alpha)-s\\;y\\sin(\\beta)+e\\\\\n",
    "y_n&=&r\\;x\\sin(\\alpha)+s\\;y\\cos(\\beta)+f\n",
    "\\end{eqnarray}"
   ]
  },
  {
   "cell_type": "code",
   "execution_count": 19,
   "metadata": {},
   "outputs": [
    {
     "data": {
      "image/png": "[encoded data removed]",
      "text/plain": [
       "<Figure size 360x576 with 1 Axes>"
      ]
     },
     "metadata": {
      "needs_background": "light"
     },
     "output_type": "display_data"
    }
   ],
   "source": [
    "alpha=np.pi/6\n",
    "beta=0\n",
    "\n",
    "x=np.array([0,L,L,0,0])\n",
    "y=np.array([0,0,L,L,0])\n",
    "\n",
    "xn=np.cos(alpha)*x-y*np.sin(beta)\n",
    "yn=np.sin(alpha)*x+y*np.cos(beta)\n",
    "\n",
    "plt.figure(figsize=(5,8))\n",
    "plt.plot(x,y)\n",
    "plt.plot(xn,yn,'r')\n",
    "plt.grid()"
   ]
  },
  {
   "cell_type": "code",
   "execution_count": 20,
   "metadata": {},
   "outputs": [
    {
     "data": {
      "image/png": "[encoded data removed]",
      "text/plain": [
       "<Figure size 576x360 with 1 Axes>"
      ]
     },
     "metadata": {
      "needs_background": "light"
     },
     "output_type": "display_data"
    }
   ],
   "source": [
    "alpha=0\n",
    "beta=np.pi/6\n",
    "\n",
    "xn=np.cos(alpha)*x-y*np.sin(beta)\n",
    "yn=np.sin(alpha)*x+y*np.cos(beta)\n",
    "\n",
    "plt.figure(figsize=(8,5))\n",
    "plt.plot(x,y)\n",
    "plt.plot(xn,yn,'r')\n",
    "plt.grid()"
   ]
  },
  {
   "cell_type": "markdown",
   "metadata": {},
   "source": [
    "### 1.2 Creación de fractales\n",
    "\n",
    "<img style=\"float: right; margin: 0px 0px 15px 15px;\" src=\"https://upload.wikimedia.org/wikipedia/commons/e/ee/Sa-fern.jpg\" width=\"400px\" height=\"125px\" />\n",
    "\n",
    "La figura de la derecha (planta verde) corresponde a un helecho. El matemático británico [Michael Barnsley](https://en.wikipedia.org/wiki/Michael_Barnsley) fue quien primero describió un fractal que representa impresionantemente bien estas plantas, en su libro *'Fractals Everywhere'*.\n",
    "\n",
    "M. Barnsley y sus colaboradores desarrollaron una estrategia de trabajo que permite reproducir prácticamente cualquier fractal. La idea básica es:\n",
    "* hágase primero un collage\n",
    "* para después jugar sobre él un ping-pong fractal.\n",
    "\n",
    "En el método de Barnsley el trabajo se inicia buscando un conjunto de transformaciones afines, que al aplicarse sobre una figura de base arbitraria, dé lugar a nuevas formas que, acomodadas o superpuestas como en un collage, reproduzcan algo que se parezca a la imagen del fractal que se quiere construir."
   ]
  },
  {
   "cell_type": "markdown",
   "metadata": {},
   "source": [
    "---\n",
    "## 2.1 Triángulo de Sierpinski\n",
    "\n",
    "Se construye con una base inicial de un triángulo y con tres transformaciones afines que, además de reducir el triángulo a la mitad, desplace los triángulos más pequeños a los vértices del triángulo base\n",
    "\n",
    "$s$|$r$|$e$|$f$\n",
    "---|---|---|:--\n",
    "0.5|0.5| 0 | 0\n",
    "0.5|0.5|0.5| 0\n",
    "0.5|0.5|0.25|0.5"
   ]
  },
  {
   "cell_type": "code",
   "execution_count": 25,
   "metadata": {},
   "outputs": [
    {
     "data": {
      "text/plain": [
       "[<matplotlib.lines.Line2D at 0x1f8de502a30>]"
      ]
     },
     "execution_count": 25,
     "metadata": {},
     "output_type": "execute_result"
    },
    {
     "data": {
      "image/png": "[encoded data removed]",
      "text/plain": [
       "<Figure size 360x360 with 1 Axes>"
      ]
     },
     "metadata": {
      "needs_background": "light"
     },
     "output_type": "display_data"
    }
   ],
   "source": [
    "x=np.array([0,1,0.5,0])\n",
    "y=np.array([0,0,1,0])\n",
    "\n",
    "plt.figure(figsize=(5,5))\n",
    "plt.plot(x,y)\n",
    "plt.grid()\n",
    "\n",
    "# primer transformación\n",
    "x1=0.5*x\n",
    "y1=0.5*y\n",
    "plt.plot(x1,y1,'r')\n",
    "\n",
    "# segunda transformación\n",
    "x2=0.5*x+0.5\n",
    "y2=0.5*y\n",
    "plt.plot(x2,y2,'g')\n",
    "\n",
    "# tercer transformación\n",
    "x3=0.5*x+0.25\n",
    "y3=0.5*y+0.5\n",
    "plt.plot(x3,y3,'b')"
   ]
  },
  {
   "cell_type": "markdown",
   "metadata": {},
   "source": [
    "## 2.2 Fractal helecho de Barnsley\n",
    "El helecho de Barnsley es un fractal que usa cuatro transformaciones afines para generar los nuevos puntos. En la escogencia de cuál transformación usar para generar el siguiente punto es donde entra el componente probabilístico.\n",
    "\n",
    "Este fractal se puede describir de la siguiente manera:\n",
    "\n",
    "$$\\left[\\begin{array}{c}x_{k+1}\\\\ y_{k+1}\\end{array}\\right]=\\left[\\begin{array}{cc}a_i & b_i \\\\ c_i & d_i\\end{array}\\right]\\left[\\begin{array}{c}x_k\\\\ y_k\\end{array}\\right]+\\left[\\begin{array}{c}e_i\\\\f_i\\end{array}\\right],$$\n",
    "\n",
    "donde $a_i$, $b_i$, $c_i$, $d_i$, $e_i$ y $f_i$ son coeficientes que dependen de la variable aleatoria $i\\in\\left\\lbrace 0,1,2,3\\right\\rbrace$. Las condiciones iniciales son $x_0=y_0=0$.\n",
    "\n",
    "Las probabilidades de ocurrencia de cada valor de $i$ son $P\\left\\lbrace i=0\\right\\rbrace=p_0=0.01$, $P\\left\\lbrace i=1\\right\\rbrace=p_1=0.85$, $P\\left\\lbrace i=2\\right\\rbrace=p_2=0.07$ y $P\\left\\lbrace i=3\\right\\rbrace=p_3=0.07$ (notar que la suma de las probabilidades es 1).\n",
    "\n",
    "Todas las anteriores constantes se resume en la siguiente tabla (matriz):"
   ]
  },
  {
   "cell_type": "code",
   "execution_count": 26,
   "metadata": {},
   "outputs": [
    {
     "data": {
      "text/html": [
       "<div>\n",
       "<style scoped>\n",
       "    .dataframe tbody tr th:only-of-type {\n",
       "        vertical-align: middle;\n",
       "    }\n",
       "\n",
       "    .dataframe tbody tr th {\n",
       "        vertical-align: top;\n",
       "    }\n",
       "\n",
       "    .dataframe thead th {\n",
       "        text-align: right;\n",
       "    }\n",
       "</style>\n",
       "<table border=\"1\" class=\"dataframe\">\n",
       "  <thead>\n",
       "    <tr style=\"text-align: right;\">\n",
       "      <th></th>\n",
       "      <th>ai</th>\n",
       "      <th>bi</th>\n",
       "      <th>ci</th>\n",
       "      <th>di</th>\n",
       "      <th>ei</th>\n",
       "      <th>fi</th>\n",
       "      <th>pi</th>\n",
       "      <th>Porción generada</th>\n",
       "    </tr>\n",
       "    <tr>\n",
       "      <th>$i$</th>\n",
       "      <th></th>\n",
       "      <th></th>\n",
       "      <th></th>\n",
       "      <th></th>\n",
       "      <th></th>\n",
       "      <th></th>\n",
       "      <th></th>\n",
       "      <th></th>\n",
       "    </tr>\n",
       "  </thead>\n",
       "  <tbody>\n",
       "    <tr>\n",
       "      <th>0</th>\n",
       "      <td>0.00</td>\n",
       "      <td>0.00</td>\n",
       "      <td>0.00</td>\n",
       "      <td>0.16</td>\n",
       "      <td>0.0</td>\n",
       "      <td>0.00</td>\n",
       "      <td>0.01</td>\n",
       "      <td>Tallo</td>\n",
       "    </tr>\n",
       "    <tr>\n",
       "      <th>1</th>\n",
       "      <td>0.85</td>\n",
       "      <td>0.04</td>\n",
       "      <td>-0.04</td>\n",
       "      <td>0.85</td>\n",
       "      <td>0.0</td>\n",
       "      <td>1.60</td>\n",
       "      <td>0.85</td>\n",
       "      <td>Follaje cada vez más pequeño</td>\n",
       "    </tr>\n",
       "    <tr>\n",
       "      <th>2</th>\n",
       "      <td>0.20</td>\n",
       "      <td>-0.26</td>\n",
       "      <td>0.23</td>\n",
       "      <td>0.22</td>\n",
       "      <td>0.0</td>\n",
       "      <td>1.60</td>\n",
       "      <td>0.07</td>\n",
       "      <td>Ramas izquierda</td>\n",
       "    </tr>\n",
       "    <tr>\n",
       "      <th>3</th>\n",
       "      <td>-0.15</td>\n",
       "      <td>0.28</td>\n",
       "      <td>0.26</td>\n",
       "      <td>0.24</td>\n",
       "      <td>0.0</td>\n",
       "      <td>0.44</td>\n",
       "      <td>0.07</td>\n",
       "      <td>Ramas derecha</td>\n",
       "    </tr>\n",
       "  </tbody>\n",
       "</table>\n",
       "</div>"
      ],
      "text/plain": [
       "       ai    bi    ci    di   ei    fi    pi              Porción generada\n",
       "$i$                                                                       \n",
       "0    0.00  0.00  0.00  0.16  0.0  0.00  0.01                         Tallo\n",
       "1    0.85  0.04 -0.04  0.85  0.0  1.60  0.85  Follaje cada vez más pequeño\n",
       "2    0.20 -0.26  0.23  0.22  0.0  1.60  0.07               Ramas izquierda\n",
       "3   -0.15  0.28  0.26  0.24  0.0  0.44  0.07                 Ramas derecha"
      ]
     },
     "execution_count": 26,
     "metadata": {},
     "output_type": "execute_result"
    }
   ],
   "source": [
    "# Matriz de Barnsley\n",
    "import pandas as pd\n",
    "i = np.arange(4)\n",
    "\n",
    "df = pd.DataFrame(index=i,columns=['ai', 'bi', 'ci', 'di', 'ei', 'fi', 'pi', 'Porción generada'], dtype='float')\n",
    "df.index.name = \"$i$\"\n",
    "\n",
    "df['ai'] = [0.0, 0.85, 0.2, -0.15]\n",
    "df['bi'] = [0.0, 0.04, -0.26, 0.28]\n",
    "df['ci'] = [0.0, -0.04, 0.23, 0.26]\n",
    "df['di'] = [0.16, 0.85, 0.22, 0.24]\n",
    "df['ei'] = [0.0, 0.0, 0.0, 0.0]\n",
    "df['fi'] = [0.0, 1.6, 1.6, 0.44]\n",
    "df['pi'] = [0.01, 0.85, 0.07, 0.07]\n",
    "df['Porción generada'] = ['Tallo', 'Follaje cada vez más pequeño', 'Ramas izquierda', 'Ramas derecha']\n",
    "\n",
    "df.round(2)"
   ]
  },
  {
   "cell_type": "markdown",
   "metadata": {},
   "source": [
    "Con la anterior descripción, generemos el helecho de Barnsley con un código en python..."
   ]
  },
  {
   "cell_type": "code",
   "execution_count": 27,
   "metadata": {},
   "outputs": [
    {
     "data": {
      "text/plain": [
       "$i$\n",
       "0    0.00\n",
       "1    0.85\n",
       "2    0.20\n",
       "3   -0.15\n",
       "Name: ai, dtype: float64"
      ]
     },
     "execution_count": 27,
     "metadata": {},
     "output_type": "execute_result"
    }
   ],
   "source": [
    "df['ai']"
   ]
  },
  {
   "cell_type": "code",
   "execution_count": 28,
   "metadata": {},
   "outputs": [],
   "source": [
    "import random"
   ]
  },
  {
   "cell_type": "code",
   "execution_count": 29,
   "metadata": {},
   "outputs": [
    {
     "data": {
      "text/plain": [
       "array([0, 1, 2, 3])"
      ]
     },
     "execution_count": 29,
     "metadata": {},
     "output_type": "execute_result"
    }
   ],
   "source": [
    "i"
   ]
  },
  {
   "cell_type": "code",
   "execution_count": 52,
   "metadata": {},
   "outputs": [
    {
     "data": {
      "text/plain": [
       "1"
      ]
     },
     "execution_count": 52,
     "metadata": {},
     "output_type": "execute_result"
    }
   ],
   "source": [
    "random.choices(i,weights=df['pi'])[0] # Nos regresa un elemento de 'i' de forma aleatoria con probabilidad 'pi'"
   ]
  },
  {
   "cell_type": "code",
   "execution_count": 63,
   "metadata": {},
   "outputs": [
    {
     "data": {
      "text/plain": [
       "0.85"
      ]
     },
     "execution_count": 63,
     "metadata": {},
     "output_type": "execute_result"
    }
   ],
   "source": [
    "idx=random.choices(i,weights=df['pi'])[0]\n",
    "df['ai'][idx]"
   ]
  },
  {
   "cell_type": "code",
   "execution_count": 64,
   "metadata": {},
   "outputs": [],
   "source": [
    "# Iterando muchas veces\n",
    "N=10**5\n",
    "\n",
    "x=[0]\n",
    "y=[0]\n",
    "\n",
    "for k in range(N):\n",
    "    # Transformación afín\n",
    "    idx=random.choices(i,weights=df['pi'])[0]\n",
    "\n",
    "    a=df['ai'][idx]\n",
    "    b=df['bi'][idx]\n",
    "    c=df['ci'][idx]\n",
    "    d=df['di'][idx]\n",
    "    e=df['ei'][idx]\n",
    "    f=df['fi'][idx]\n",
    "\n",
    "    x.append(a*x[-1]+b*y[-1]+e)  # Nuevo elemento generado para 'x'\n",
    "    y.append(c*x[-2]+d*y[-1]+f)  # Nuevo elemento generado para 'y'"
   ]
  },
  {
   "cell_type": "code",
   "execution_count": 66,
   "metadata": {},
   "outputs": [
    {
     "data": {
      "text/plain": [
       "<matplotlib.collections.PathCollection at 0x1f8e0129430>"
      ]
     },
     "execution_count": 66,
     "metadata": {},
     "output_type": "execute_result"
    },
    {
     "data": {
      "image/png": "[encoded data removed]",
      "text/plain": [
       "<Figure size 432x288 with 1 Axes>"
      ]
     },
     "metadata": {
      "needs_background": "light"
     },
     "output_type": "display_data"
    }
   ],
   "source": [
    "plt.scatter(x,y,s=1,c='g')"
   ]
  },
  {
   "cell_type": "markdown",
   "metadata": {},
   "source": [
    "## 2.3 Mutaciones\n",
    "\n",
    "Jugando con los coeficientes de la transformación, es posible crear mutaciones del helecho."
   ]
  },
  {
   "cell_type": "markdown",
   "metadata": {},
   "source": [
    "#### Mutación Cyclosorus\n",
    "Un experimentador dió con una tabla de coeficientes que produce otro helecho que se ve muy parecido a la naturaleza. La tabla es la siguiente:"
   ]
  },
  {
   "cell_type": "code",
   "execution_count": null,
   "metadata": {},
   "outputs": [],
   "source": [
    "i = np.arange(1,5)\n",
    "\n",
    "df = pd.DataFrame(index=i,columns=['ai', 'bi', 'ci', 'di', 'ei', 'fi', 'pi', 'Porción generada'], dtype='float')\n",
    "df.index.name = \"$i$\"\n",
    "\n",
    "df['ai'] = [0.0, 0.95, 0.035, -0.04]\n",
    "df['bi'] = [0.0, 0.005, -0.2, 0.2]\n",
    "df['ci'] = [0.0, -0.005, 0.16, 0.16]\n",
    "df['di'] = [0.25, 0.93, 0.04, 0.04]\n",
    "df['ei'] = [0.0, -0.002, -0.09, 0.083]\n",
    "df['fi'] = [-0.4, 0.5, 0.02, 0.12]\n",
    "df['pi'] = [0.02, 0.84, 0.07, 0.07]\n",
    "df['Porción generada'] = ['Tallo', 'Follaje cada vez más pequeño', 'Ramas izquierda', 'Ramas derecha']\n",
    "\n",
    "df.round(3)"
   ]
  },
  {
   "cell_type": "markdown",
   "metadata": {},
   "source": [
    "La actividad consiste en generar el helecho mutante con los coeficientes de esta nueva tabla."
   ]
  },
  {
   "cell_type": "code",
   "execution_count": null,
   "metadata": {},
   "outputs": [],
   "source": []
  },
  {
   "cell_type": "markdown",
   "metadata": {},
   "source": [
    "#### Actividad - Mutación Culcita\n",
    "Un experimentador dió con una tabla de coeficientes que produce otro helecho que se ve muy parecido a la naturaleza. La tabla es la siguiente:"
   ]
  },
  {
   "cell_type": "code",
   "execution_count": null,
   "metadata": {},
   "outputs": [],
   "source": [
    "i = np.arange(1,5)\n",
    "\n",
    "df = pd.DataFrame(index=i,columns=['ai', 'bi', 'ci', 'di', 'ei', 'fi', 'pi', 'Porción generada'], dtype='float')\n",
    "df.index.name = \"$i$\"\n",
    "\n",
    "df['ai'] = [0.0, 0.85, 0.09, -0.09]\n",
    "df['bi'] = [0.0, 0.02, -0.28, 0.28]\n",
    "df['ci'] = [0.0, -0.02, 0.3, 0.3]\n",
    "df['di'] = [0.25, 0.83, 0.11, 0.09]\n",
    "df['ei'] = [0.0, 0.0, 0.0, 0.0]\n",
    "df['fi'] = [-0.14, 1.0, 0.6, 0.7]\n",
    "df['pi'] = [0.02, 0.84, 0.07, 0.07]\n",
    "df['Porción generada'] = ['Tallo', 'Follaje cada vez más pequeño', 'Ramas izquierda', 'Ramas derecha']\n",
    "\n",
    "df.round(3)"
   ]
  },
  {
   "cell_type": "code",
   "execution_count": null,
   "metadata": {},
   "outputs": [],
   "source": []
  },
  {
   "cell_type": "markdown",
   "metadata": {},
   "source": [
    "---\n",
    "La escencia de fractales aleatorios no es partir de una tabla y generar funciones distribuidas con cierta probabilidad, ya que se puede partir de funciones dadas y ejecutar el mismo proceso, es decir\n",
    "$$\n",
    "\\begin{bmatrix}\n",
    "x_{k+1}\\\\y_{k+1}\n",
    "\\end{bmatrix}=f_i(x_k,y_k)\n",
    "$$\n",
    "donde $f_i(x_k,y_k)$ son funciones que dependen la la variable aleatoria $i\\in \\{0,1,\\dots\\}$.\n",
    "\n",
    "En los ejemplos anteriores las funciones $f_i(x_k,y_k)$ eran transformaciones afines (multiplicación y suma), pero pueden ser funciones no lineales. Por ejemplo:"
   ]
  },
  {
   "cell_type": "markdown",
   "metadata": {},
   "source": [
    "#### Twindragon\n",
    "Siendo\n",
    "$$f_1(x,y)=\\begin{bmatrix}\\mathcal{Re}\\left\\{\\frac{\\sqrt{2}}{2}e^{\\frac{1}{4}\\pi j}(x+yj)\\right\\}\\\\\\mathcal{Im}\\left\\{\\frac{\\sqrt{2}}{2}e^{\\frac{1}{4}\\pi j}(x+yj)\\right\\}\\end{bmatrix}$$\n",
    "y\n",
    "$$f_2(x,y)=\\begin{bmatrix}\\mathcal{Re}\\left\\{\\frac{\\sqrt{2}}{2}e^{\\frac{3}{4}\\pi j}(x+yj)+55j\\right\\}\\\\\\mathcal{Im}\\left\\{\\frac{\\sqrt{2}}{2}e^{\\frac{3}{4}\\pi j}(x+yj)+55j\\right\\}\\end{bmatrix}$$\n",
    "entonces\n",
    "$$\n",
    "\\begin{bmatrix}\n",
    "x_{k+1}\\\\y_{k+1}\n",
    "\\end{bmatrix}=f_i(x_k,y_k)\n",
    "$$\n",
    "donde $j=\\sqrt{-1}$ es la unidad imaginaria, $i=\\{1,2\\}$ es la variable aleatoria distribuida con la misma probabilidad; y condiciones iniciales $x_0=0$, $y_0=0$."
   ]
  },
  {
   "cell_type": "code",
   "execution_count": null,
   "metadata": {},
   "outputs": [],
   "source": []
  },
  {
   "cell_type": "markdown",
   "metadata": {},
   "source": [
    "## 3. Otra aplicación (elegible para proyecto)\n",
    "Un paisaje fractal es una superficie generada usando un algoritmo estocástico diseñado para producir un comportamiento fractal que mimetiza la apariencia de un terreno natural. En otras palabras, el resultado de este procedimiento no es una superficie fractal determinística, sino una superficie aleatoria que exhibe comportamiento fractal.\n",
    "\n",
    "<img style=\"float: left; margin: 0px 0px 0px 0px;\" src=\"https://upload.wikimedia.org/wikipedia/commons/6/6d/Animated_fractal_mountain.gif\" width=\"300px\" height=\"100px\" />\n",
    "\n",
    "<img style=\"float: center; margin: 0px 0px 0px 0px;\" src=\"https://upload.wikimedia.org/wikipedia/commons/6/6e/FractalLandscape.jpg\" width=\"300px\" height=\"100px\" />\n",
    "\n",
    "<img style=\"float: right; margin: 0px 0px 0px 0px;\" src=\"https://upload.wikimedia.org/wikipedia/commons/8/8b/Fractal_terrain_texture.jpg\" width=\"300px\" height=\"100px\" />\n",
    "\n",
    "**Referencia:**\n",
    "- https://en.wikipedia.org/wiki/Fractal_landscape"
   ]
  }
 ],
 "metadata": {
  "kernelspec": {
   "display_name": "Python 3",
   "language": "python",
   "name": "python3"
  },
  "language_info": {
   "codemirror_mode": {
    "name": "ipython",
    "version": 3
   },
   "file_extension": ".py",
   "mimetype": "text/x-python",
   "name": "python",
   "nbconvert_exporter": "python",
   "pygments_lexer": "ipython3",
   "version": "3.8.8"
  }
 },
 "nbformat": 4,
 "nbformat_minor": 2
}
