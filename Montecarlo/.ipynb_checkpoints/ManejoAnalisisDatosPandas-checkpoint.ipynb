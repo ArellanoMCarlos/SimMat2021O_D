{
 "cells": [
  {
   "cell_type": "markdown",
   "metadata": {},
   "source": [
    "# Aplicando Python para análisis de precios: descarga, manejo y análisis de datos"
   ]
  },
  {
   "cell_type": "markdown",
   "metadata": {},
   "source": [
    "<img style=\"float: right; margin: 0px 0px 15px 15px;\" src=\"https://upload.wikimedia.org/wikipedia/commons/0/0a/Python.svg\" width=\"300px\" height=\"100px\" />\n",
    "\n",
    "> Veremos un caso de aplicación de simulación montecarlo en la toma de decisiones. Para lograr este objetivo, primero veremos como manipular datos con *pandas*, tanto desde un archivo local de excel como remotamente desde Yahoo Finance.\n",
    "\n",
    "> Python Data Analysis Library: pandas es una librería de código abierto, fácil de usar y que provee alto rendimiento en structuras de datos y herramientas de análisis de datos para el lenguaje de programación Python.\n",
    "\n",
    "**Referencias:**\n",
    "- http://pandas.pydata.org/\n",
    "- http://www.learndatasci.com/python-finance-part-yahoo-finance-api-pandas-matplotlib/\n",
    "- https://www.datacamp.com/community/tutorials/python-excel-tutorial"
   ]
  },
  {
   "cell_type": "markdown",
   "metadata": {},
   "source": [
    "## 0. Motivación\n",
    "\n",
    "<img style=\"float: right; margin: 0px 0px 15px 15px;\" src=\"https://upload.wikimedia.org/wikipedia/commons/d/d7/Philippine-stock-market-board.jpg\" width=\"400px\" height=\"125px\" />\n",
    "\n",
    "Hace una década, los instrumentos financieros estaban en la cúspide de la popularidad. Las instituciones financieras de todo el mundo estaban negociando miles de millones de dólares de estos instrumentos a diario, y los analistas cuantitativos estaban modelándolos utilizando el cálculo estocástico y el poderoso `C++`.\n",
    "\n",
    "Sin embargo, el avance en los últimos años ha sido impresionante y las cosas han cambiado. Por una parte, la [crisis financiera del 2008](https://es.wikipedia.org/wiki/Crisis_financiera_de_2008) fue producida por los instrumentos financieros llamados *derivados*. Por otra parte, los volúmenes transaccionales han bajado y la demanda de modelado con `C++` se ha marchitado con ellos. Además, un nuevo jugador entró en la competencia... `¡Python!`\n",
    "\n",
    "`Python` ha estado ganando muchos seguidores en la industria financiera en los últimos años y con razón. No en vano, junto a `R` son los lenguajes de programación más utilizados en cuanto a análisis financiero."
   ]
  },
  {
   "cell_type": "markdown",
   "metadata": {},
   "source": [
    "## 1. Descarga de datos de Yahoo! Finance\n",
    "Para esto utilizaremos el paquete *pandas_datareader*.\n",
    "\n",
    "**Nota**: Usualmente, las distribuciones de Python no cuentan, por defecto, con el paquete *pandas_datareader*. Por lo que será necesario instalarlo aparte:\n",
    "- buscar en inicio \"Anaconda prompt\" y ejecutarlo como administrador;\n",
    "- el siguiente comando instala el paquete en Anaconda: *conda install pandas-datareader*;\n",
    "- una vez finalice la instalación correr el comando: *conda list*, y buscar que sí se haya instalado pandas-datareader"
   ]
  },
  {
   "cell_type": "code",
   "execution_count": 9,
   "metadata": {},
   "outputs": [],
   "source": [
    "# Otra forma de instalar las librerias\n",
    "#   !conda install pandas-datareader\n",
    "#   !pip install padas-datareader"
   ]
  },
  {
   "cell_type": "code",
   "execution_count": 1,
   "metadata": {},
   "outputs": [],
   "source": [
    "import pandas_datareader.data as web"
   ]
  },
  {
   "cell_type": "markdown",
   "metadata": {},
   "source": [
    "Primero importaremos datos desde un archivo con extensión `.csv`"
   ]
  },
  {
   "cell_type": "code",
   "execution_count": 2,
   "metadata": {},
   "outputs": [],
   "source": [
    "import pandas as pd"
   ]
  },
  {
   "cell_type": "code",
   "execution_count": 3,
   "metadata": {},
   "outputs": [],
   "source": [
    "# El archivo debe estar en la misma carpeta\n",
    "data=pd.read_csv('FB.csv') # Importamos los datos"
   ]
  },
  {
   "cell_type": "code",
   "execution_count": 6,
   "metadata": {},
   "outputs": [
    {
     "data": {
      "text/html": [
       "<div>\n",
       "<style scoped>\n",
       "    .dataframe tbody tr th:only-of-type {\n",
       "        vertical-align: middle;\n",
       "    }\n",
       "\n",
       "    .dataframe tbody tr th {\n",
       "        vertical-align: top;\n",
       "    }\n",
       "\n",
       "    .dataframe thead th {\n",
       "        text-align: right;\n",
       "    }\n",
       "</style>\n",
       "<table border=\"1\" class=\"dataframe\">\n",
       "  <thead>\n",
       "    <tr style=\"text-align: right;\">\n",
       "      <th></th>\n",
       "      <th>Date</th>\n",
       "      <th>Open</th>\n",
       "      <th>High</th>\n",
       "      <th>Low</th>\n",
       "      <th>Close</th>\n",
       "      <th>Adj Close</th>\n",
       "      <th>Volume</th>\n",
       "    </tr>\n",
       "  </thead>\n",
       "  <tbody>\n",
       "    <tr>\n",
       "      <th>0</th>\n",
       "      <td>2015-01-02</td>\n",
       "      <td>78.580002</td>\n",
       "      <td>78.930000</td>\n",
       "      <td>77.699997</td>\n",
       "      <td>78.449997</td>\n",
       "      <td>78.449997</td>\n",
       "      <td>18177500</td>\n",
       "    </tr>\n",
       "    <tr>\n",
       "      <th>1</th>\n",
       "      <td>2015-01-05</td>\n",
       "      <td>77.980003</td>\n",
       "      <td>79.250000</td>\n",
       "      <td>76.860001</td>\n",
       "      <td>77.190002</td>\n",
       "      <td>77.190002</td>\n",
       "      <td>26452200</td>\n",
       "    </tr>\n",
       "    <tr>\n",
       "      <th>2</th>\n",
       "      <td>2015-01-06</td>\n",
       "      <td>77.230003</td>\n",
       "      <td>77.589996</td>\n",
       "      <td>75.360001</td>\n",
       "      <td>76.150002</td>\n",
       "      <td>76.150002</td>\n",
       "      <td>27399300</td>\n",
       "    </tr>\n",
       "  </tbody>\n",
       "</table>\n",
       "</div>"
      ],
      "text/plain": [
       "         Date       Open       High        Low      Close  Adj Close    Volume\n",
       "0  2015-01-02  78.580002  78.930000  77.699997  78.449997  78.449997  18177500\n",
       "1  2015-01-05  77.980003  79.250000  76.860001  77.190002  77.190002  26452200\n",
       "2  2015-01-06  77.230003  77.589996  75.360001  76.150002  76.150002  27399300"
      ]
     },
     "execution_count": 6,
     "metadata": {},
     "output_type": "execute_result"
    }
   ],
   "source": [
    "data.head() # Muestra los primeros 5 renglones"
   ]
  },
  {
   "cell_type": "code",
   "execution_count": 10,
   "metadata": {},
   "outputs": [
    {
     "data": {
      "text/html": [
       "<div>\n",
       "<style scoped>\n",
       "    .dataframe tbody tr th:only-of-type {\n",
       "        vertical-align: middle;\n",
       "    }\n",
       "\n",
       "    .dataframe tbody tr th {\n",
       "        vertical-align: top;\n",
       "    }\n",
       "\n",
       "    .dataframe thead th {\n",
       "        text-align: right;\n",
       "    }\n",
       "</style>\n",
       "<table border=\"1\" class=\"dataframe\">\n",
       "  <thead>\n",
       "    <tr style=\"text-align: right;\">\n",
       "      <th></th>\n",
       "      <th>Date</th>\n",
       "      <th>Open</th>\n",
       "      <th>High</th>\n",
       "      <th>Low</th>\n",
       "      <th>Close</th>\n",
       "      <th>Adj Close</th>\n",
       "      <th>Volume</th>\n",
       "    </tr>\n",
       "  </thead>\n",
       "  <tbody>\n",
       "    <tr>\n",
       "      <th>0</th>\n",
       "      <td>2015-01-02</td>\n",
       "      <td>78.580002</td>\n",
       "      <td>78.930000</td>\n",
       "      <td>77.699997</td>\n",
       "      <td>78.449997</td>\n",
       "      <td>78.449997</td>\n",
       "      <td>18177500</td>\n",
       "    </tr>\n",
       "    <tr>\n",
       "      <th>1</th>\n",
       "      <td>2015-01-05</td>\n",
       "      <td>77.980003</td>\n",
       "      <td>79.250000</td>\n",
       "      <td>76.860001</td>\n",
       "      <td>77.190002</td>\n",
       "      <td>77.190002</td>\n",
       "      <td>26452200</td>\n",
       "    </tr>\n",
       "    <tr>\n",
       "      <th>2</th>\n",
       "      <td>2015-01-06</td>\n",
       "      <td>77.230003</td>\n",
       "      <td>77.589996</td>\n",
       "      <td>75.360001</td>\n",
       "      <td>76.150002</td>\n",
       "      <td>76.150002</td>\n",
       "      <td>27399300</td>\n",
       "    </tr>\n",
       "    <tr>\n",
       "      <th>3</th>\n",
       "      <td>2015-01-07</td>\n",
       "      <td>76.760002</td>\n",
       "      <td>77.360001</td>\n",
       "      <td>75.820000</td>\n",
       "      <td>76.150002</td>\n",
       "      <td>76.150002</td>\n",
       "      <td>22045300</td>\n",
       "    </tr>\n",
       "    <tr>\n",
       "      <th>4</th>\n",
       "      <td>2015-01-08</td>\n",
       "      <td>76.739998</td>\n",
       "      <td>78.230003</td>\n",
       "      <td>76.080002</td>\n",
       "      <td>78.180000</td>\n",
       "      <td>78.180000</td>\n",
       "      <td>23961000</td>\n",
       "    </tr>\n",
       "    <tr>\n",
       "      <th>5</th>\n",
       "      <td>2015-01-09</td>\n",
       "      <td>78.199997</td>\n",
       "      <td>78.620003</td>\n",
       "      <td>77.199997</td>\n",
       "      <td>77.739998</td>\n",
       "      <td>77.739998</td>\n",
       "      <td>21157000</td>\n",
       "    </tr>\n",
       "    <tr>\n",
       "      <th>6</th>\n",
       "      <td>2015-01-12</td>\n",
       "      <td>77.839996</td>\n",
       "      <td>78.000000</td>\n",
       "      <td>76.209999</td>\n",
       "      <td>76.720001</td>\n",
       "      <td>76.720001</td>\n",
       "      <td>19190200</td>\n",
       "    </tr>\n",
       "    <tr>\n",
       "      <th>7</th>\n",
       "      <td>2015-01-13</td>\n",
       "      <td>77.230003</td>\n",
       "      <td>78.080002</td>\n",
       "      <td>75.849998</td>\n",
       "      <td>76.449997</td>\n",
       "      <td>76.449997</td>\n",
       "      <td>25179600</td>\n",
       "    </tr>\n",
       "    <tr>\n",
       "      <th>8</th>\n",
       "      <td>2015-01-14</td>\n",
       "      <td>76.419998</td>\n",
       "      <td>77.199997</td>\n",
       "      <td>76.029999</td>\n",
       "      <td>76.279999</td>\n",
       "      <td>76.279999</td>\n",
       "      <td>25741000</td>\n",
       "    </tr>\n",
       "    <tr>\n",
       "      <th>9</th>\n",
       "      <td>2015-01-15</td>\n",
       "      <td>76.400002</td>\n",
       "      <td>76.570000</td>\n",
       "      <td>73.540001</td>\n",
       "      <td>74.050003</td>\n",
       "      <td>74.050003</td>\n",
       "      <td>34134000</td>\n",
       "    </tr>\n",
       "  </tbody>\n",
       "</table>\n",
       "</div>"
      ],
      "text/plain": [
       "         Date       Open       High        Low      Close  Adj Close    Volume\n",
       "0  2015-01-02  78.580002  78.930000  77.699997  78.449997  78.449997  18177500\n",
       "1  2015-01-05  77.980003  79.250000  76.860001  77.190002  77.190002  26452200\n",
       "2  2015-01-06  77.230003  77.589996  75.360001  76.150002  76.150002  27399300\n",
       "3  2015-01-07  76.760002  77.360001  75.820000  76.150002  76.150002  22045300\n",
       "4  2015-01-08  76.739998  78.230003  76.080002  78.180000  78.180000  23961000\n",
       "5  2015-01-09  78.199997  78.620003  77.199997  77.739998  77.739998  21157000\n",
       "6  2015-01-12  77.839996  78.000000  76.209999  76.720001  76.720001  19190200\n",
       "7  2015-01-13  77.230003  78.080002  75.849998  76.449997  76.449997  25179600\n",
       "8  2015-01-14  76.419998  77.199997  76.029999  76.279999  76.279999  25741000\n",
       "9  2015-01-15  76.400002  76.570000  73.540001  74.050003  74.050003  34134000"
      ]
     },
     "execution_count": 10,
     "metadata": {},
     "output_type": "execute_result"
    }
   ],
   "source": [
    "data.head(10) # Muestra los primeros 10 renglones"
   ]
  },
  {
   "cell_type": "code",
   "execution_count": 11,
   "metadata": {},
   "outputs": [
    {
     "data": {
      "text/html": [
       "<div>\n",
       "<style scoped>\n",
       "    .dataframe tbody tr th:only-of-type {\n",
       "        vertical-align: middle;\n",
       "    }\n",
       "\n",
       "    .dataframe tbody tr th {\n",
       "        vertical-align: top;\n",
       "    }\n",
       "\n",
       "    .dataframe thead th {\n",
       "        text-align: right;\n",
       "    }\n",
       "</style>\n",
       "<table border=\"1\" class=\"dataframe\">\n",
       "  <thead>\n",
       "    <tr style=\"text-align: right;\">\n",
       "      <th></th>\n",
       "      <th>Date</th>\n",
       "      <th>Open</th>\n",
       "      <th>High</th>\n",
       "      <th>Low</th>\n",
       "      <th>Close</th>\n",
       "      <th>Adj Close</th>\n",
       "      <th>Volume</th>\n",
       "    </tr>\n",
       "  </thead>\n",
       "  <tbody>\n",
       "    <tr>\n",
       "      <th>1001</th>\n",
       "      <td>2018-12-24</td>\n",
       "      <td>123.099998</td>\n",
       "      <td>129.740005</td>\n",
       "      <td>123.019997</td>\n",
       "      <td>124.059998</td>\n",
       "      <td>124.059998</td>\n",
       "      <td>22066000</td>\n",
       "    </tr>\n",
       "    <tr>\n",
       "      <th>1002</th>\n",
       "      <td>2018-12-26</td>\n",
       "      <td>126.000000</td>\n",
       "      <td>134.240005</td>\n",
       "      <td>125.889999</td>\n",
       "      <td>134.179993</td>\n",
       "      <td>134.179993</td>\n",
       "      <td>39723400</td>\n",
       "    </tr>\n",
       "    <tr>\n",
       "      <th>1003</th>\n",
       "      <td>2018-12-27</td>\n",
       "      <td>132.440002</td>\n",
       "      <td>134.990005</td>\n",
       "      <td>129.669998</td>\n",
       "      <td>134.520004</td>\n",
       "      <td>134.520004</td>\n",
       "      <td>31202500</td>\n",
       "    </tr>\n",
       "    <tr>\n",
       "      <th>1004</th>\n",
       "      <td>2018-12-28</td>\n",
       "      <td>135.339996</td>\n",
       "      <td>135.919998</td>\n",
       "      <td>132.199997</td>\n",
       "      <td>133.199997</td>\n",
       "      <td>133.199997</td>\n",
       "      <td>22627600</td>\n",
       "    </tr>\n",
       "    <tr>\n",
       "      <th>1005</th>\n",
       "      <td>2018-12-31</td>\n",
       "      <td>134.449997</td>\n",
       "      <td>134.639999</td>\n",
       "      <td>129.949997</td>\n",
       "      <td>131.089996</td>\n",
       "      <td>131.089996</td>\n",
       "      <td>24625300</td>\n",
       "    </tr>\n",
       "  </tbody>\n",
       "</table>\n",
       "</div>"
      ],
      "text/plain": [
       "            Date        Open        High         Low       Close   Adj Close    Volume\n",
       "1001  2018-12-24  123.099998  129.740005  123.019997  124.059998  124.059998  22066000\n",
       "1002  2018-12-26  126.000000  134.240005  125.889999  134.179993  134.179993  39723400\n",
       "1003  2018-12-27  132.440002  134.990005  129.669998  134.520004  134.520004  31202500\n",
       "1004  2018-12-28  135.339996  135.919998  132.199997  133.199997  133.199997  22627600\n",
       "1005  2018-12-31  134.449997  134.639999  129.949997  131.089996  131.089996  24625300"
      ]
     },
     "execution_count": 11,
     "metadata": {},
     "output_type": "execute_result"
    }
   ],
   "source": [
    "data.tail() # Muestra los últimos 5 renglones"
   ]
  },
  {
   "cell_type": "markdown",
   "metadata": {},
   "source": [
    "Ahora lo haremos desde Yahoo Finance"
   ]
  },
  {
   "cell_type": "code",
   "execution_count": 12,
   "metadata": {},
   "outputs": [],
   "source": [
    "web.DataReader?"
   ]
  },
  {
   "cell_type": "code",
   "execution_count": 13,
   "metadata": {},
   "outputs": [
    {
     "data": {
      "text/html": [
       "<div>\n",
       "<style scoped>\n",
       "    .dataframe tbody tr th:only-of-type {\n",
       "        vertical-align: middle;\n",
       "    }\n",
       "\n",
       "    .dataframe tbody tr th {\n",
       "        vertical-align: top;\n",
       "    }\n",
       "\n",
       "    .dataframe thead th {\n",
       "        text-align: right;\n",
       "    }\n",
       "</style>\n",
       "<table border=\"1\" class=\"dataframe\">\n",
       "  <thead>\n",
       "    <tr style=\"text-align: right;\">\n",
       "      <th></th>\n",
       "      <th>High</th>\n",
       "      <th>Low</th>\n",
       "      <th>Open</th>\n",
       "      <th>Close</th>\n",
       "      <th>Volume</th>\n",
       "      <th>Adj Close</th>\n",
       "    </tr>\n",
       "    <tr>\n",
       "      <th>Date</th>\n",
       "      <th></th>\n",
       "      <th></th>\n",
       "      <th></th>\n",
       "      <th></th>\n",
       "      <th></th>\n",
       "      <th></th>\n",
       "    </tr>\n",
       "  </thead>\n",
       "  <tbody>\n",
       "    <tr>\n",
       "      <th>2021-10-26</th>\n",
       "      <td>330.209991</td>\n",
       "      <td>309.600006</td>\n",
       "      <td>328.260010</td>\n",
       "      <td>315.809998</td>\n",
       "      <td>65654000</td>\n",
       "      <td>315.809998</td>\n",
       "    </tr>\n",
       "    <tr>\n",
       "      <th>2021-10-27</th>\n",
       "      <td>319.250000</td>\n",
       "      <td>312.059998</td>\n",
       "      <td>314.190002</td>\n",
       "      <td>312.220001</td>\n",
       "      <td>29971800</td>\n",
       "      <td>312.220001</td>\n",
       "    </tr>\n",
       "    <tr>\n",
       "      <th>2021-10-28</th>\n",
       "      <td>325.519989</td>\n",
       "      <td>308.109985</td>\n",
       "      <td>312.989990</td>\n",
       "      <td>316.920013</td>\n",
       "      <td>50806800</td>\n",
       "      <td>316.920013</td>\n",
       "    </tr>\n",
       "    <tr>\n",
       "      <th>2021-10-29</th>\n",
       "      <td>326.000000</td>\n",
       "      <td>319.600006</td>\n",
       "      <td>320.190002</td>\n",
       "      <td>323.570007</td>\n",
       "      <td>37027000</td>\n",
       "      <td>323.570007</td>\n",
       "    </tr>\n",
       "    <tr>\n",
       "      <th>2021-11-01</th>\n",
       "      <td>333.450012</td>\n",
       "      <td>326.079987</td>\n",
       "      <td>326.040009</td>\n",
       "      <td>332.260010</td>\n",
       "      <td>14982200</td>\n",
       "      <td>332.260010</td>\n",
       "    </tr>\n",
       "  </tbody>\n",
       "</table>\n",
       "</div>"
      ],
      "text/plain": [
       "                  High         Low        Open       Close    Volume   Adj Close\n",
       "Date                                                                            \n",
       "2021-10-26  330.209991  309.600006  328.260010  315.809998  65654000  315.809998\n",
       "2021-10-27  319.250000  312.059998  314.190002  312.220001  29971800  312.220001\n",
       "2021-10-28  325.519989  308.109985  312.989990  316.920013  50806800  316.920013\n",
       "2021-10-29  326.000000  319.600006  320.190002  323.570007  37027000  323.570007\n",
       "2021-11-01  333.450012  326.079987  326.040009  332.260010  14982200  332.260010"
      ]
     },
     "execution_count": 13,
     "metadata": {},
     "output_type": "execute_result"
    }
   ],
   "source": [
    "data=web.DataReader('FB','yahoo','2015-01-01','2021-11-01')\n",
    "data.tail()"
   ]
  },
  {
   "cell_type": "markdown",
   "metadata": {},
   "source": [
    "#### La api de yahoo es inestable. Puede ser que nos toque intentar varias veces antes de tener éxito"
   ]
  },
  {
   "cell_type": "code",
   "execution_count": 14,
   "metadata": {},
   "outputs": [
    {
     "data": {
      "text/plain": [
       "Date\n",
       "2015-01-02     78.449997\n",
       "2015-01-05     77.190002\n",
       "2015-01-06     76.150002\n",
       "2015-01-07     76.150002\n",
       "2015-01-08     78.180000\n",
       "                 ...    \n",
       "2021-10-26    315.809998\n",
       "2021-10-27    312.220001\n",
       "2021-10-28    316.920013\n",
       "2021-10-29    323.570007\n",
       "2021-11-01    332.260010\n",
       "Name: Adj Close, Length: 1721, dtype: float64"
      ]
     },
     "execution_count": 14,
     "metadata": {},
     "output_type": "execute_result"
    }
   ],
   "source": [
    "data['Adj Close'] # Se extraen los datos de los precios ajustados al cierre"
   ]
  },
  {
   "cell_type": "markdown",
   "metadata": {},
   "source": [
    "¿Cómo lucen estos datos?"
   ]
  },
  {
   "cell_type": "code",
   "execution_count": 15,
   "metadata": {},
   "outputs": [],
   "source": [
    "def getClose(name,start,end):\n",
    "    return web.DataReader(name,'yahoo',start,end)['Adj Close']"
   ]
  },
  {
   "cell_type": "code",
   "execution_count": 16,
   "metadata": {},
   "outputs": [
    {
     "data": {
      "text/plain": [
       "Date\n",
       "2015-01-02     78.449997\n",
       "2015-01-05     77.190002\n",
       "2015-01-06     76.150002\n",
       "2015-01-07     76.150002\n",
       "2015-01-08     78.180000\n",
       "                 ...    \n",
       "2021-10-26    315.809998\n",
       "2021-10-27    312.220001\n",
       "2021-10-28    316.920013\n",
       "2021-10-29    323.570007\n",
       "2021-11-01    332.125000\n",
       "Name: Adj Close, Length: 1721, dtype: float64"
      ]
     },
     "execution_count": 16,
     "metadata": {},
     "output_type": "execute_result"
    }
   ],
   "source": [
    "getClose('FB','2015-01-01','2021-11-01')"
   ]
  },
  {
   "cell_type": "markdown",
   "metadata": {},
   "source": [
    "Una vez tenemos los datos, podemos operar con ellos. Por ejemplo un resumen de datos estadísticos se podría obtener con"
   ]
  },
  {
   "cell_type": "code",
   "execution_count": 17,
   "metadata": {},
   "outputs": [
    {
     "data": {
      "text/html": [
       "<div>\n",
       "<style scoped>\n",
       "    .dataframe tbody tr th:only-of-type {\n",
       "        vertical-align: middle;\n",
       "    }\n",
       "\n",
       "    .dataframe tbody tr th {\n",
       "        vertical-align: top;\n",
       "    }\n",
       "\n",
       "    .dataframe thead th {\n",
       "        text-align: right;\n",
       "    }\n",
       "</style>\n",
       "<table border=\"1\" class=\"dataframe\">\n",
       "  <thead>\n",
       "    <tr style=\"text-align: right;\">\n",
       "      <th>Symbols</th>\n",
       "      <th>FB</th>\n",
       "      <th>AAPL</th>\n",
       "      <th>TSLA</th>\n",
       "    </tr>\n",
       "    <tr>\n",
       "      <th>Date</th>\n",
       "      <th></th>\n",
       "      <th></th>\n",
       "      <th></th>\n",
       "    </tr>\n",
       "  </thead>\n",
       "  <tbody>\n",
       "    <tr>\n",
       "      <th>2015-01-02</th>\n",
       "      <td>78.449997</td>\n",
       "      <td>24.782110</td>\n",
       "      <td>43.862000</td>\n",
       "    </tr>\n",
       "    <tr>\n",
       "      <th>2015-01-05</th>\n",
       "      <td>77.190002</td>\n",
       "      <td>24.083960</td>\n",
       "      <td>42.018002</td>\n",
       "    </tr>\n",
       "    <tr>\n",
       "      <th>2015-01-06</th>\n",
       "      <td>76.150002</td>\n",
       "      <td>24.086226</td>\n",
       "      <td>42.256001</td>\n",
       "    </tr>\n",
       "    <tr>\n",
       "      <th>2015-01-07</th>\n",
       "      <td>76.150002</td>\n",
       "      <td>24.423969</td>\n",
       "      <td>42.189999</td>\n",
       "    </tr>\n",
       "    <tr>\n",
       "      <th>2015-01-08</th>\n",
       "      <td>78.180000</td>\n",
       "      <td>25.362396</td>\n",
       "      <td>42.124001</td>\n",
       "    </tr>\n",
       "  </tbody>\n",
       "</table>\n",
       "</div>"
      ],
      "text/plain": [
       "Symbols            FB       AAPL       TSLA\n",
       "Date                                       \n",
       "2015-01-02  78.449997  24.782110  43.862000\n",
       "2015-01-05  77.190002  24.083960  42.018002\n",
       "2015-01-06  76.150002  24.086226  42.256001\n",
       "2015-01-07  76.150002  24.423969  42.189999\n",
       "2015-01-08  78.180000  25.362396  42.124001"
      ]
     },
     "execution_count": 17,
     "metadata": {},
     "output_type": "execute_result"
    }
   ],
   "source": [
    "names=['FB','AAPL','TSLA']\n",
    "data=getClose(names,'2015-01-01','2021-11-01')\n",
    "data.head()"
   ]
  },
  {
   "cell_type": "code",
   "execution_count": 18,
   "metadata": {},
   "outputs": [
    {
     "data": {
      "text/plain": [
       "Symbols\n",
       "FB      177.947560\n",
       "AAPL     57.456559\n",
       "TSLA    170.135507\n",
       "dtype: float64"
      ]
     },
     "execution_count": 18,
     "metadata": {},
     "output_type": "execute_result"
    }
   ],
   "source": [
    "# Calculamos la media\n",
    "data.mean()"
   ]
  },
  {
   "cell_type": "code",
   "execution_count": 19,
   "metadata": {},
   "outputs": [
    {
     "data": {
      "text/plain": [
       "Symbols\n",
       "FB       72.297857\n",
       "AAPL     37.995603\n",
       "TSLA    234.111170\n",
       "dtype: float64"
      ]
     },
     "execution_count": 19,
     "metadata": {},
     "output_type": "execute_result"
    }
   ],
   "source": [
    "# Desviación estándar\n",
    "data.std()"
   ]
  },
  {
   "cell_type": "code",
   "execution_count": 20,
   "metadata": {},
   "outputs": [
    {
     "data": {
      "text/html": [
       "<div>\n",
       "<style scoped>\n",
       "    .dataframe tbody tr th:only-of-type {\n",
       "        vertical-align: middle;\n",
       "    }\n",
       "\n",
       "    .dataframe tbody tr th {\n",
       "        vertical-align: top;\n",
       "    }\n",
       "\n",
       "    .dataframe thead th {\n",
       "        text-align: right;\n",
       "    }\n",
       "</style>\n",
       "<table border=\"1\" class=\"dataframe\">\n",
       "  <thead>\n",
       "    <tr style=\"text-align: right;\">\n",
       "      <th>Symbols</th>\n",
       "      <th>FB</th>\n",
       "      <th>AAPL</th>\n",
       "      <th>TSLA</th>\n",
       "    </tr>\n",
       "  </thead>\n",
       "  <tbody>\n",
       "    <tr>\n",
       "      <th>count</th>\n",
       "      <td>1721.000000</td>\n",
       "      <td>1721.000000</td>\n",
       "      <td>1721.000000</td>\n",
       "    </tr>\n",
       "    <tr>\n",
       "      <th>mean</th>\n",
       "      <td>177.947560</td>\n",
       "      <td>57.456559</td>\n",
       "      <td>170.135507</td>\n",
       "    </tr>\n",
       "    <tr>\n",
       "      <th>std</th>\n",
       "      <td>72.297857</td>\n",
       "      <td>37.995603</td>\n",
       "      <td>234.111170</td>\n",
       "    </tr>\n",
       "    <tr>\n",
       "      <th>min</th>\n",
       "      <td>74.050003</td>\n",
       "      <td>21.067003</td>\n",
       "      <td>28.733999</td>\n",
       "    </tr>\n",
       "    <tr>\n",
       "      <th>25%</th>\n",
       "      <td>121.470001</td>\n",
       "      <td>28.627945</td>\n",
       "      <td>46.389999</td>\n",
       "    </tr>\n",
       "    <tr>\n",
       "      <th>50%</th>\n",
       "      <td>170.490005</td>\n",
       "      <td>42.082443</td>\n",
       "      <td>61.119999</td>\n",
       "    </tr>\n",
       "    <tr>\n",
       "      <th>75%</th>\n",
       "      <td>204.740005</td>\n",
       "      <td>70.894379</td>\n",
       "      <td>111.603996</td>\n",
       "    </tr>\n",
       "    <tr>\n",
       "      <th>max</th>\n",
       "      <td>382.179993</td>\n",
       "      <td>156.690002</td>\n",
       "      <td>1164.839966</td>\n",
       "    </tr>\n",
       "  </tbody>\n",
       "</table>\n",
       "</div>"
      ],
      "text/plain": [
       "Symbols           FB         AAPL         TSLA\n",
       "count    1721.000000  1721.000000  1721.000000\n",
       "mean      177.947560    57.456559   170.135507\n",
       "std        72.297857    37.995603   234.111170\n",
       "min        74.050003    21.067003    28.733999\n",
       "25%       121.470001    28.627945    46.389999\n",
       "50%       170.490005    42.082443    61.119999\n",
       "75%       204.740005    70.894379   111.603996\n",
       "max       382.179993   156.690002  1164.839966"
      ]
     },
     "execution_count": 20,
     "metadata": {},
     "output_type": "execute_result"
    }
   ],
   "source": [
    "data.describe()"
   ]
  },
  {
   "cell_type": "code",
   "execution_count": 23,
   "metadata": {},
   "outputs": [
    {
     "data": {
      "text/plain": [
       "<AxesSubplot:xlabel='Date'>"
      ]
     },
     "execution_count": 23,
     "metadata": {},
     "output_type": "execute_result"
    },
    {
     "data": {
      "image/png": "[encoded data removed]",
      "text/plain": [
       "<Figure size 720x432 with 1 Axes>"
      ]
     },
     "metadata": {
      "needs_background": "light"
     },
     "output_type": "display_data"
    }
   ],
   "source": [
    "data.plot(grid=True,figsize=(10,6))"
   ]
  },
  {
   "cell_type": "code",
   "execution_count": 26,
   "metadata": {},
   "outputs": [
    {
     "data": {
      "text/plain": [
       "array([[<AxesSubplot:title={'center':'FB'}>,\n",
       "        <AxesSubplot:title={'center':'AAPL'}>],\n",
       "       [<AxesSubplot:title={'center':'TSLA'}>, <AxesSubplot:>]],\n",
       "      dtype=object)"
      ]
     },
     "execution_count": 26,
     "metadata": {},
     "output_type": "execute_result"
    },
    {
     "data": {
      "image/png": "[encoded data removed]",
      "text/plain": [
       "<Figure size 720x432 with 4 Axes>"
      ]
     },
     "metadata": {
      "needs_background": "light"
     },
     "output_type": "display_data"
    }
   ],
   "source": [
    "data.hist(figsize=(10,6),bins=50)"
   ]
  },
  {
   "cell_type": "code",
   "execution_count": 27,
   "metadata": {},
   "outputs": [
    {
     "data": {
      "text/plain": [
       "Date\n",
       "2015-01-02      43.862000\n",
       "2015-01-05      42.018002\n",
       "2015-01-06      42.256001\n",
       "2015-01-07      42.189999\n",
       "2015-01-08      42.124001\n",
       "                 ...     \n",
       "2021-10-26    1018.429993\n",
       "2021-10-27    1037.859985\n",
       "2021-10-28    1077.040039\n",
       "2021-10-29    1114.000000\n",
       "2021-11-01    1164.839966\n",
       "Name: TSLA, Length: 1721, dtype: float64"
      ]
     },
     "execution_count": 27,
     "metadata": {},
     "output_type": "execute_result"
    }
   ],
   "source": [
    "# Extraer los datos de una columna\n",
    "data['TSLA']"
   ]
  },
  {
   "cell_type": "code",
   "execution_count": 29,
   "metadata": {},
   "outputs": [
    {
     "data": {
      "text/plain": [
       "Symbols\n",
       "FB      78.449997\n",
       "AAPL    24.782110\n",
       "TSLA    43.862000\n",
       "Name: 2015-01-02 00:00:00, dtype: float64"
      ]
     },
     "execution_count": 29,
     "metadata": {},
     "output_type": "execute_result"
    }
   ],
   "source": [
    "# Extraer datos desde los índices\n",
    "#\n",
    "# A través de su nombre\n",
    "idx='2020-10-01'\n",
    "data.loc[idx]\n",
    "\n",
    "# A través de su posición\n",
    "idx=0 # 2015-01-02\n",
    "data.iloc[idx]"
   ]
  },
  {
   "cell_type": "markdown",
   "metadata": {},
   "source": [
    "## 2. Rendimientos diarios\n",
    "\n",
    "Para una sucesión de precios $\\{S_t\\}_{t=0}^{n}$, el rendimiento simple $R_t$ se define como el el cambio porcentual\n",
    "$$\n",
    "R_t=\\frac{S_t-S_{t-1}}{S_{t-1}}\n",
    "$$\n",
    "para $t=1,\\ldots,n$.\n",
    "\n",
    "Para el ejemplo en curso, ¿cómo calcular esto?"
   ]
  },
  {
   "cell_type": "code",
   "execution_count": 30,
   "metadata": {},
   "outputs": [],
   "source": [
    "import numpy as np"
   ]
  },
  {
   "cell_type": "code",
   "execution_count": 31,
   "metadata": {},
   "outputs": [
    {
     "data": {
      "text/html": [
       "<div>\n",
       "<style scoped>\n",
       "    .dataframe tbody tr th:only-of-type {\n",
       "        vertical-align: middle;\n",
       "    }\n",
       "\n",
       "    .dataframe tbody tr th {\n",
       "        vertical-align: top;\n",
       "    }\n",
       "\n",
       "    .dataframe thead th {\n",
       "        text-align: right;\n",
       "    }\n",
       "</style>\n",
       "<table border=\"1\" class=\"dataframe\">\n",
       "  <thead>\n",
       "    <tr style=\"text-align: right;\">\n",
       "      <th>Symbols</th>\n",
       "      <th>FB</th>\n",
       "      <th>AAPL</th>\n",
       "      <th>TSLA</th>\n",
       "    </tr>\n",
       "    <tr>\n",
       "      <th>Date</th>\n",
       "      <th></th>\n",
       "      <th></th>\n",
       "      <th></th>\n",
       "    </tr>\n",
       "  </thead>\n",
       "  <tbody>\n",
       "    <tr>\n",
       "      <th>2015-01-02</th>\n",
       "      <td>NaN</td>\n",
       "      <td>NaN</td>\n",
       "      <td>NaN</td>\n",
       "    </tr>\n",
       "    <tr>\n",
       "      <th>2015-01-05</th>\n",
       "      <td>78.449997</td>\n",
       "      <td>24.782110</td>\n",
       "      <td>43.862000</td>\n",
       "    </tr>\n",
       "    <tr>\n",
       "      <th>2015-01-06</th>\n",
       "      <td>77.190002</td>\n",
       "      <td>24.083960</td>\n",
       "      <td>42.018002</td>\n",
       "    </tr>\n",
       "    <tr>\n",
       "      <th>2015-01-07</th>\n",
       "      <td>76.150002</td>\n",
       "      <td>24.086226</td>\n",
       "      <td>42.256001</td>\n",
       "    </tr>\n",
       "    <tr>\n",
       "      <th>2015-01-08</th>\n",
       "      <td>76.150002</td>\n",
       "      <td>24.423969</td>\n",
       "      <td>42.189999</td>\n",
       "    </tr>\n",
       "  </tbody>\n",
       "</table>\n",
       "</div>"
      ],
      "text/plain": [
       "Symbols            FB       AAPL       TSLA\n",
       "Date                                       \n",
       "2015-01-02        NaN        NaN        NaN\n",
       "2015-01-05  78.449997  24.782110  43.862000\n",
       "2015-01-06  77.190002  24.083960  42.018002\n",
       "2015-01-07  76.150002  24.086226  42.256001\n",
       "2015-01-08  76.150002  24.423969  42.189999"
      ]
     },
     "execution_count": 31,
     "metadata": {},
     "output_type": "execute_result"
    }
   ],
   "source": [
    "# Variable desplazada\n",
    "s=data.shift()\n",
    "s.head()"
   ]
  },
  {
   "cell_type": "code",
   "execution_count": 32,
   "metadata": {},
   "outputs": [
    {
     "data": {
      "text/html": [
       "<div>\n",
       "<style scoped>\n",
       "    .dataframe tbody tr th:only-of-type {\n",
       "        vertical-align: middle;\n",
       "    }\n",
       "\n",
       "    .dataframe tbody tr th {\n",
       "        vertical-align: top;\n",
       "    }\n",
       "\n",
       "    .dataframe thead th {\n",
       "        text-align: right;\n",
       "    }\n",
       "</style>\n",
       "<table border=\"1\" class=\"dataframe\">\n",
       "  <thead>\n",
       "    <tr style=\"text-align: right;\">\n",
       "      <th>Symbols</th>\n",
       "      <th>FB</th>\n",
       "      <th>AAPL</th>\n",
       "      <th>TSLA</th>\n",
       "    </tr>\n",
       "    <tr>\n",
       "      <th>Date</th>\n",
       "      <th></th>\n",
       "      <th></th>\n",
       "      <th></th>\n",
       "    </tr>\n",
       "  </thead>\n",
       "  <tbody>\n",
       "    <tr>\n",
       "      <th>2015-01-02</th>\n",
       "      <td>78.449997</td>\n",
       "      <td>24.782110</td>\n",
       "      <td>43.862000</td>\n",
       "    </tr>\n",
       "    <tr>\n",
       "      <th>2015-01-05</th>\n",
       "      <td>77.190002</td>\n",
       "      <td>24.083960</td>\n",
       "      <td>42.018002</td>\n",
       "    </tr>\n",
       "    <tr>\n",
       "      <th>2015-01-06</th>\n",
       "      <td>76.150002</td>\n",
       "      <td>24.086226</td>\n",
       "      <td>42.256001</td>\n",
       "    </tr>\n",
       "    <tr>\n",
       "      <th>2015-01-07</th>\n",
       "      <td>76.150002</td>\n",
       "      <td>24.423969</td>\n",
       "      <td>42.189999</td>\n",
       "    </tr>\n",
       "    <tr>\n",
       "      <th>2015-01-08</th>\n",
       "      <td>78.180000</td>\n",
       "      <td>25.362396</td>\n",
       "      <td>42.124001</td>\n",
       "    </tr>\n",
       "  </tbody>\n",
       "</table>\n",
       "</div>"
      ],
      "text/plain": [
       "Symbols            FB       AAPL       TSLA\n",
       "Date                                       \n",
       "2015-01-02  78.449997  24.782110  43.862000\n",
       "2015-01-05  77.190002  24.083960  42.018002\n",
       "2015-01-06  76.150002  24.086226  42.256001\n",
       "2015-01-07  76.150002  24.423969  42.189999\n",
       "2015-01-08  78.180000  25.362396  42.124001"
      ]
     },
     "execution_count": 32,
     "metadata": {},
     "output_type": "execute_result"
    }
   ],
   "source": [
    "data.head()"
   ]
  },
  {
   "cell_type": "code",
   "execution_count": 33,
   "metadata": {},
   "outputs": [
    {
     "data": {
      "text/html": [
       "<div>\n",
       "<style scoped>\n",
       "    .dataframe tbody tr th:only-of-type {\n",
       "        vertical-align: middle;\n",
       "    }\n",
       "\n",
       "    .dataframe tbody tr th {\n",
       "        vertical-align: top;\n",
       "    }\n",
       "\n",
       "    .dataframe thead th {\n",
       "        text-align: right;\n",
       "    }\n",
       "</style>\n",
       "<table border=\"1\" class=\"dataframe\">\n",
       "  <thead>\n",
       "    <tr style=\"text-align: right;\">\n",
       "      <th>Symbols</th>\n",
       "      <th>FB</th>\n",
       "      <th>AAPL</th>\n",
       "      <th>TSLA</th>\n",
       "    </tr>\n",
       "    <tr>\n",
       "      <th>Date</th>\n",
       "      <th></th>\n",
       "      <th></th>\n",
       "      <th></th>\n",
       "    </tr>\n",
       "  </thead>\n",
       "  <tbody>\n",
       "    <tr>\n",
       "      <th>2015-01-02</th>\n",
       "      <td>NaN</td>\n",
       "      <td>NaN</td>\n",
       "      <td>NaN</td>\n",
       "    </tr>\n",
       "    <tr>\n",
       "      <th>2015-01-05</th>\n",
       "      <td>-0.016061</td>\n",
       "      <td>-0.028172</td>\n",
       "      <td>-0.042041</td>\n",
       "    </tr>\n",
       "    <tr>\n",
       "      <th>2015-01-06</th>\n",
       "      <td>-0.013473</td>\n",
       "      <td>0.000094</td>\n",
       "      <td>0.005664</td>\n",
       "    </tr>\n",
       "    <tr>\n",
       "      <th>2015-01-07</th>\n",
       "      <td>0.000000</td>\n",
       "      <td>0.014022</td>\n",
       "      <td>-0.001562</td>\n",
       "    </tr>\n",
       "    <tr>\n",
       "      <th>2015-01-08</th>\n",
       "      <td>0.026658</td>\n",
       "      <td>0.038422</td>\n",
       "      <td>-0.001564</td>\n",
       "    </tr>\n",
       "  </tbody>\n",
       "</table>\n",
       "</div>"
      ],
      "text/plain": [
       "Symbols           FB      AAPL      TSLA\n",
       "Date                                    \n",
       "2015-01-02       NaN       NaN       NaN\n",
       "2015-01-05 -0.016061 -0.028172 -0.042041\n",
       "2015-01-06 -0.013473  0.000094  0.005664\n",
       "2015-01-07  0.000000  0.014022 -0.001562\n",
       "2015-01-08  0.026658  0.038422 -0.001564"
      ]
     },
     "execution_count": 33,
     "metadata": {},
     "output_type": "execute_result"
    }
   ],
   "source": [
    "# Rendimientos\n",
    "R=(data-data.shift())/data.shift()\n",
    "R.head()"
   ]
  },
  {
   "cell_type": "code",
   "execution_count": 34,
   "metadata": {},
   "outputs": [
    {
     "data": {
      "text/html": [
       "<div>\n",
       "<style scoped>\n",
       "    .dataframe tbody tr th:only-of-type {\n",
       "        vertical-align: middle;\n",
       "    }\n",
       "\n",
       "    .dataframe tbody tr th {\n",
       "        vertical-align: top;\n",
       "    }\n",
       "\n",
       "    .dataframe thead th {\n",
       "        text-align: right;\n",
       "    }\n",
       "</style>\n",
       "<table border=\"1\" class=\"dataframe\">\n",
       "  <thead>\n",
       "    <tr style=\"text-align: right;\">\n",
       "      <th>Symbols</th>\n",
       "      <th>FB</th>\n",
       "      <th>AAPL</th>\n",
       "      <th>TSLA</th>\n",
       "    </tr>\n",
       "    <tr>\n",
       "      <th>Date</th>\n",
       "      <th></th>\n",
       "      <th></th>\n",
       "      <th></th>\n",
       "    </tr>\n",
       "  </thead>\n",
       "  <tbody>\n",
       "    <tr>\n",
       "      <th>2015-01-05</th>\n",
       "      <td>-0.016061</td>\n",
       "      <td>-0.028172</td>\n",
       "      <td>-0.042041</td>\n",
       "    </tr>\n",
       "    <tr>\n",
       "      <th>2015-01-06</th>\n",
       "      <td>-0.013473</td>\n",
       "      <td>0.000094</td>\n",
       "      <td>0.005664</td>\n",
       "    </tr>\n",
       "    <tr>\n",
       "      <th>2015-01-07</th>\n",
       "      <td>0.000000</td>\n",
       "      <td>0.014022</td>\n",
       "      <td>-0.001562</td>\n",
       "    </tr>\n",
       "    <tr>\n",
       "      <th>2015-01-08</th>\n",
       "      <td>0.026658</td>\n",
       "      <td>0.038422</td>\n",
       "      <td>-0.001564</td>\n",
       "    </tr>\n",
       "    <tr>\n",
       "      <th>2015-01-09</th>\n",
       "      <td>-0.005628</td>\n",
       "      <td>0.001072</td>\n",
       "      <td>-0.018802</td>\n",
       "    </tr>\n",
       "  </tbody>\n",
       "</table>\n",
       "</div>"
      ],
      "text/plain": [
       "Symbols           FB      AAPL      TSLA\n",
       "Date                                    \n",
       "2015-01-05 -0.016061 -0.028172 -0.042041\n",
       "2015-01-06 -0.013473  0.000094  0.005664\n",
       "2015-01-07  0.000000  0.014022 -0.001562\n",
       "2015-01-08  0.026658  0.038422 -0.001564\n",
       "2015-01-09 -0.005628  0.001072 -0.018802"
      ]
     },
     "execution_count": 34,
     "metadata": {},
     "output_type": "execute_result"
    }
   ],
   "source": [
    "# Eliminamos la fila de NaN\n",
    "R=R.dropna()\n",
    "R.head()"
   ]
  },
  {
   "cell_type": "markdown",
   "metadata": {},
   "source": [
    "y la gráfica de los rendimientos se puede obtener como..."
   ]
  },
  {
   "cell_type": "code",
   "execution_count": 35,
   "metadata": {},
   "outputs": [
    {
     "data": {
      "text/plain": [
       "<AxesSubplot:xlabel='Date'>"
      ]
     },
     "execution_count": 35,
     "metadata": {},
     "output_type": "execute_result"
    },
    {
     "data": {
      "image/png": "[encoded data removed]",
      "text/plain": [
       "<Figure size 432x288 with 1 Axes>"
      ]
     },
     "metadata": {
      "needs_background": "light"
     },
     "output_type": "display_data"
    }
   ],
   "source": [
    "R.plot(grid=True)"
   ]
  },
  {
   "cell_type": "code",
   "execution_count": 36,
   "metadata": {},
   "outputs": [
    {
     "data": {
      "text/html": [
       "<div>\n",
       "<style scoped>\n",
       "    .dataframe tbody tr th:only-of-type {\n",
       "        vertical-align: middle;\n",
       "    }\n",
       "\n",
       "    .dataframe tbody tr th {\n",
       "        vertical-align: top;\n",
       "    }\n",
       "\n",
       "    .dataframe thead th {\n",
       "        text-align: right;\n",
       "    }\n",
       "</style>\n",
       "<table border=\"1\" class=\"dataframe\">\n",
       "  <thead>\n",
       "    <tr style=\"text-align: right;\">\n",
       "      <th>Symbols</th>\n",
       "      <th>FB</th>\n",
       "      <th>AAPL</th>\n",
       "      <th>TSLA</th>\n",
       "    </tr>\n",
       "  </thead>\n",
       "  <tbody>\n",
       "    <tr>\n",
       "      <th>count</th>\n",
       "      <td>1720.000000</td>\n",
       "      <td>1720.000000</td>\n",
       "      <td>1720.000000</td>\n",
       "    </tr>\n",
       "    <tr>\n",
       "      <th>mean</th>\n",
       "      <td>0.001038</td>\n",
       "      <td>0.001211</td>\n",
       "      <td>0.002502</td>\n",
       "    </tr>\n",
       "    <tr>\n",
       "      <th>std</th>\n",
       "      <td>0.019885</td>\n",
       "      <td>0.018319</td>\n",
       "      <td>0.034552</td>\n",
       "    </tr>\n",
       "    <tr>\n",
       "      <th>min</th>\n",
       "      <td>-0.189609</td>\n",
       "      <td>-0.128647</td>\n",
       "      <td>-0.210628</td>\n",
       "    </tr>\n",
       "    <tr>\n",
       "      <th>25%</th>\n",
       "      <td>-0.007794</td>\n",
       "      <td>-0.006615</td>\n",
       "      <td>-0.013859</td>\n",
       "    </tr>\n",
       "    <tr>\n",
       "      <th>50%</th>\n",
       "      <td>0.001081</td>\n",
       "      <td>0.000942</td>\n",
       "      <td>0.001307</td>\n",
       "    </tr>\n",
       "    <tr>\n",
       "      <th>75%</th>\n",
       "      <td>0.011292</td>\n",
       "      <td>0.010157</td>\n",
       "      <td>0.018412</td>\n",
       "    </tr>\n",
       "    <tr>\n",
       "      <th>max</th>\n",
       "      <td>0.155214</td>\n",
       "      <td>0.119808</td>\n",
       "      <td>0.198949</td>\n",
       "    </tr>\n",
       "  </tbody>\n",
       "</table>\n",
       "</div>"
      ],
      "text/plain": [
       "Symbols           FB         AAPL         TSLA\n",
       "count    1720.000000  1720.000000  1720.000000\n",
       "mean        0.001038     0.001211     0.002502\n",
       "std         0.019885     0.018319     0.034552\n",
       "min        -0.189609    -0.128647    -0.210628\n",
       "25%        -0.007794    -0.006615    -0.013859\n",
       "50%         0.001081     0.000942     0.001307\n",
       "75%         0.011292     0.010157     0.018412\n",
       "max         0.155214     0.119808     0.198949"
      ]
     },
     "execution_count": 36,
     "metadata": {},
     "output_type": "execute_result"
    }
   ],
   "source": [
    "R.describe()"
   ]
  },
  {
   "cell_type": "markdown",
   "metadata": {},
   "source": [
    "Donde se observa que el rendimiento tiene una tendencia constante y, por tanto, se puede plantear la hipótesis de que se puede modelar usando un proceso estocástico estacionario en media."
   ]
  },
  {
   "cell_type": "markdown",
   "metadata": {},
   "source": [
    "Otro rendimiento usado con frecuencia es el rendimiento continuamente compuesto o rendimiento logaritmico. Éste, está definido como\n",
    "\n",
    "$$\n",
    "r_t=\\ln\\left(\\frac{S_t}{S_{t-1}}\\right).\n",
    "$$\n",
    "\n",
    "**Esta ecuación sólo es válida cuando se tienen periodos cortos de tiempo**\n",
    "Es fácil darse cuenta que $r_t=\\ln(1+R_t)$.\n",
    "\n",
    "**Nota:** ver gráficamente que si $0\\leq|x|\\ll 1$, entonces $\\ln(1+x)\\approx x$.\n",
    "\n",
    "Para este caso, la fórmula del rendimiento continuamente compuesto se translada facilmente a código Python (obtener, graficar y comparar)."
   ]
  },
  {
   "cell_type": "code",
   "execution_count": 37,
   "metadata": {},
   "outputs": [
    {
     "data": {
      "text/html": [
       "<div>\n",
       "<style scoped>\n",
       "    .dataframe tbody tr th:only-of-type {\n",
       "        vertical-align: middle;\n",
       "    }\n",
       "\n",
       "    .dataframe tbody tr th {\n",
       "        vertical-align: top;\n",
       "    }\n",
       "\n",
       "    .dataframe thead th {\n",
       "        text-align: right;\n",
       "    }\n",
       "</style>\n",
       "<table border=\"1\" class=\"dataframe\">\n",
       "  <thead>\n",
       "    <tr style=\"text-align: right;\">\n",
       "      <th>Symbols</th>\n",
       "      <th>FB</th>\n",
       "      <th>AAPL</th>\n",
       "      <th>TSLA</th>\n",
       "    </tr>\n",
       "    <tr>\n",
       "      <th>Date</th>\n",
       "      <th></th>\n",
       "      <th></th>\n",
       "      <th></th>\n",
       "    </tr>\n",
       "  </thead>\n",
       "  <tbody>\n",
       "    <tr>\n",
       "      <th>2015-01-05</th>\n",
       "      <td>-0.016191</td>\n",
       "      <td>-0.028576</td>\n",
       "      <td>-0.042950</td>\n",
       "    </tr>\n",
       "    <tr>\n",
       "      <th>2015-01-06</th>\n",
       "      <td>-0.013565</td>\n",
       "      <td>0.000094</td>\n",
       "      <td>0.005648</td>\n",
       "    </tr>\n",
       "    <tr>\n",
       "      <th>2015-01-07</th>\n",
       "      <td>0.000000</td>\n",
       "      <td>0.013925</td>\n",
       "      <td>-0.001563</td>\n",
       "    </tr>\n",
       "    <tr>\n",
       "      <th>2015-01-08</th>\n",
       "      <td>0.026309</td>\n",
       "      <td>0.037703</td>\n",
       "      <td>-0.001566</td>\n",
       "    </tr>\n",
       "    <tr>\n",
       "      <th>2015-01-09</th>\n",
       "      <td>-0.005644</td>\n",
       "      <td>0.001072</td>\n",
       "      <td>-0.018981</td>\n",
       "    </tr>\n",
       "  </tbody>\n",
       "</table>\n",
       "</div>"
      ],
      "text/plain": [
       "Symbols           FB      AAPL      TSLA\n",
       "Date                                    \n",
       "2015-01-05 -0.016191 -0.028576 -0.042950\n",
       "2015-01-06 -0.013565  0.000094  0.005648\n",
       "2015-01-07  0.000000  0.013925 -0.001563\n",
       "2015-01-08  0.026309  0.037703 -0.001566\n",
       "2015-01-09 -0.005644  0.001072 -0.018981"
      ]
     },
     "execution_count": 37,
     "metadata": {},
     "output_type": "execute_result"
    }
   ],
   "source": [
    "r=np.log(data/data.shift()).dropna()\n",
    "r.head()"
   ]
  },
  {
   "cell_type": "code",
   "execution_count": 38,
   "metadata": {},
   "outputs": [
    {
     "data": {
      "text/plain": [
       "<AxesSubplot:xlabel='Date'>"
      ]
     },
     "execution_count": 38,
     "metadata": {},
     "output_type": "execute_result"
    },
    {
     "data": {
      "image/png": "[encoded data removed]",
      "text/plain": [
       "<Figure size 432x288 with 1 Axes>"
      ]
     },
     "metadata": {
      "needs_background": "light"
     },
     "output_type": "display_data"
    }
   ],
   "source": [
    "r.plot(grid=True)"
   ]
  },
  {
   "cell_type": "code",
   "execution_count": 39,
   "metadata": {},
   "outputs": [],
   "source": [
    "data.pct_change?"
   ]
  },
  {
   "cell_type": "code",
   "execution_count": 41,
   "metadata": {},
   "outputs": [
    {
     "data": {
      "text/html": [
       "<div>\n",
       "<style scoped>\n",
       "    .dataframe tbody tr th:only-of-type {\n",
       "        vertical-align: middle;\n",
       "    }\n",
       "\n",
       "    .dataframe tbody tr th {\n",
       "        vertical-align: top;\n",
       "    }\n",
       "\n",
       "    .dataframe thead th {\n",
       "        text-align: right;\n",
       "    }\n",
       "</style>\n",
       "<table border=\"1\" class=\"dataframe\">\n",
       "  <thead>\n",
       "    <tr style=\"text-align: right;\">\n",
       "      <th>Symbols</th>\n",
       "      <th>FB</th>\n",
       "      <th>AAPL</th>\n",
       "      <th>TSLA</th>\n",
       "    </tr>\n",
       "    <tr>\n",
       "      <th>Date</th>\n",
       "      <th></th>\n",
       "      <th></th>\n",
       "      <th></th>\n",
       "    </tr>\n",
       "  </thead>\n",
       "  <tbody>\n",
       "    <tr>\n",
       "      <th>2015-01-05</th>\n",
       "      <td>-0.016061</td>\n",
       "      <td>-0.028172</td>\n",
       "      <td>-0.042041</td>\n",
       "    </tr>\n",
       "    <tr>\n",
       "      <th>2015-01-06</th>\n",
       "      <td>-0.013473</td>\n",
       "      <td>0.000094</td>\n",
       "      <td>0.005664</td>\n",
       "    </tr>\n",
       "    <tr>\n",
       "      <th>2015-01-07</th>\n",
       "      <td>0.000000</td>\n",
       "      <td>0.014022</td>\n",
       "      <td>-0.001562</td>\n",
       "    </tr>\n",
       "    <tr>\n",
       "      <th>2015-01-08</th>\n",
       "      <td>0.026658</td>\n",
       "      <td>0.038422</td>\n",
       "      <td>-0.001564</td>\n",
       "    </tr>\n",
       "    <tr>\n",
       "      <th>2015-01-09</th>\n",
       "      <td>-0.005628</td>\n",
       "      <td>0.001072</td>\n",
       "      <td>-0.018802</td>\n",
       "    </tr>\n",
       "  </tbody>\n",
       "</table>\n",
       "</div>"
      ],
      "text/plain": [
       "Symbols           FB      AAPL      TSLA\n",
       "Date                                    \n",
       "2015-01-05 -0.016061 -0.028172 -0.042041\n",
       "2015-01-06 -0.013473  0.000094  0.005664\n",
       "2015-01-07  0.000000  0.014022 -0.001562\n",
       "2015-01-08  0.026658  0.038422 -0.001564\n",
       "2015-01-09 -0.005628  0.001072 -0.018802"
      ]
     },
     "execution_count": 41,
     "metadata": {},
     "output_type": "execute_result"
    }
   ],
   "source": [
    "R=data.pct_change().dropna()\n",
    "R.head()"
   ]
  },
  {
   "cell_type": "markdown",
   "metadata": {},
   "source": [
    "Donde se observa que el rendimiento tiene una tendencia constante y, por tanto, se puede plantear la hipótesis de que se puede modelar usando un proceso estocástico estacionario en media.\n",
    "\n",
    "Podemos incluso plantear la hipótesis de que los log rendimientos son normales..."
   ]
  },
  {
   "cell_type": "code",
   "execution_count": 42,
   "metadata": {},
   "outputs": [],
   "source": [
    "import matplotlib.pyplot as plt"
   ]
  },
  {
   "cell_type": "code",
   "execution_count": 49,
   "metadata": {},
   "outputs": [
    {
     "data": {
      "image/png": "[encoded data removed]",
      "text/plain": [
       "<Figure size 432x288 with 1 Axes>"
      ]
     },
     "metadata": {
      "needs_background": "light"
     },
     "output_type": "display_data"
    }
   ],
   "source": [
    "# Prediciendo los rendimientos de Tesla para el próximo año\n",
    "tsla2022=np.random.normal(R['TSLA'].mean(),R['TSLA'].std(),size=365)\n",
    "plt.plot(tsla2022)\n",
    "plt.grid()"
   ]
  },
  {
   "cell_type": "markdown",
   "metadata": {},
   "source": [
    "___\n",
    "Recapitulando, hoy aprendimos a obtener datos con pandas-datareader directamente desde un archivo local ó fuentes remotas.\n",
    "\n",
    "Por otra parte, estudiamos los rendimientos diarios y dimos con la conclusión de que se podrían modelar como un proceso estocástico estacionario normal."
   ]
  },
  {
   "cell_type": "markdown",
   "metadata": {},
   "source": [
    "La siguiente clase veremos como simular escenarios de comportamiento de los precios futuros (no determinístico, no sabemos como se comporta, muchas posibilidades: montecarlo) a partir de datos de ingresos diarios.\n",
    "\n",
    "Luego, con esas predicciones veremos la probabilidad de que el precio de las acciones quede por encima (debajo) de cierto umbral y con ello tomar decisiones de vender (comprar) estas acciones."
   ]
  }
 ],
 "metadata": {
  "kernelspec": {
   "display_name": "Python 3",
   "language": "python",
   "name": "python3"
  },
  "language_info": {
   "codemirror_mode": {
    "name": "ipython",
    "version": 3
   },
   "file_extension": ".py",
   "mimetype": "text/x-python",
   "name": "python",
   "nbconvert_exporter": "python",
   "pygments_lexer": "ipython3",
   "version": "3.8.8"
  }
 },
 "nbformat": 4,
 "nbformat_minor": 2
}
